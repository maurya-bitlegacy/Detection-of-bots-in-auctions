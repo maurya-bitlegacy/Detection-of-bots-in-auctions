{
 "cells": [
  {
   "cell_type": "markdown",
   "metadata": {},
   "source": [
    "------\n",
    "### Metis: Project McNulty \n",
    ">  Neha Gupta                \n",
    ">  Date: 02/13/2019\n",
    "-------"
   ]
  },
  {
   "cell_type": "markdown",
   "metadata": {},
   "source": [
    "### Import Libraries"
   ]
  },
  {
   "cell_type": "code",
   "execution_count": 1,
   "metadata": {},
   "outputs": [],
   "source": [
    "import matplotlib.pyplot as plt\n",
    "import numpy as np\n",
    "import pandas as pd\n",
    "import seaborn as sns\n",
    "%matplotlib inline"
   ]
  },
  {
   "cell_type": "code",
   "execution_count": 2,
   "metadata": {},
   "outputs": [],
   "source": [
    "from pyspark.context import SparkContext\n",
    "from pyspark.sql.session import SparkSession\n",
    "sc = SparkContext('local')\n",
    "spark = SparkSession(sc)"
   ]
  },
  {
   "cell_type": "markdown",
   "metadata": {},
   "source": [
    "#### Upload Files through Spark"
   ]
  },
  {
   "cell_type": "markdown",
   "metadata": {},
   "source": [
    "__Upload bids file__"
   ]
  },
  {
   "cell_type": "code",
   "execution_count": 3,
   "metadata": {},
   "outputs": [
    {
     "name": "stdout",
     "output_type": "stream",
     "text": [
      "+------+--------------------+-------+-----------+------+----------------+-------+--------------+---------------+\n",
      "|bid_id|           bidder_id|auction|merchandise|device|            time|country|            ip|            url|\n",
      "+------+--------------------+-------+-----------+------+----------------+-------+--------------+---------------+\n",
      "|     0|8dac2b259fd1c6d11...|  ewmzr|    jewelry|phone0|9759243157894736|     us| 69.166.231.58|vasstdc27m7nks3|\n",
      "|     1|668d393e858e81262...|  aeqok|  furniture|phone1|9759243157894736|     in| 50.201.125.84|jmqlhflrzwuay9c|\n",
      "|     2|aa5f360084278b35d...|  wa00e| home goods|phone2|9759243157894736|     py|112.54.208.157|vasstdc27m7nks3|\n",
      "|     3|3939ac3ef7d472a59...|  jefix|    jewelry|phone4|9759243157894736|     in| 18.99.175.133|vasstdc27m7nks3|\n",
      "|     4|8393c48eaf4b8fa96...|  jefix|    jewelry|phone5|9759243157894736|     in|  145.138.5.37|vasstdc27m7nks3|\n",
      "+------+--------------------+-------+-----------+------+----------------+-------+--------------+---------------+\n",
      "\n",
      "+--------+\n",
      "|count(1)|\n",
      "+--------+\n",
      "| 7656334|\n",
      "+--------+\n",
      "\n"
     ]
    }
   ],
   "source": [
    "df_bids = spark.read.format('com.databricks.spark.csv').options(header='true', inferschema='true').load('bids_gc.csv')\n",
    "df_bids.createOrReplaceTempView('bids')\n",
    "\n",
    "spark.sql('select * from bids limit 5').show()\n",
    "\n",
    "spark.sql('select count(*) from bids').show()"
   ]
  },
  {
   "cell_type": "markdown",
   "metadata": {},
   "source": [
    "__Upload train file__"
   ]
  },
  {
   "cell_type": "code",
   "execution_count": 4,
   "metadata": {},
   "outputs": [
    {
     "name": "stdout",
     "output_type": "stream",
     "text": [
      "+--------------------+--------------------+--------------------+-------+\n",
      "|           bidder_id|     payment_account|             address|outcome|\n",
      "+--------------------+--------------------+--------------------+-------+\n",
      "|91a3c57b13234af24...|a3d2de7675556553a...|a3d2de7675556553a...|    0.0|\n",
      "|624f258b49e77713f...|a3d2de7675556553a...|ae87054e5a97a8f84...|    0.0|\n",
      "|1c5f4fc669099bfbf...|a3d2de7675556553a...|92520288b50f03907...|    0.0|\n",
      "|4bee9aba2abda51bf...|51d80e233f7b6a7df...|4cb9717c8ad7e88a9...|    0.0|\n",
      "|4ab12bc61c82ddd9c...|a3d2de7675556553a...|2a96c3ce94b3be921...|    0.0|\n",
      "+--------------------+--------------------+--------------------+-------+\n",
      "\n",
      "+--------+\n",
      "|count(1)|\n",
      "+--------+\n",
      "|    2013|\n",
      "+--------+\n",
      "\n"
     ]
    }
   ],
   "source": [
    "df_train = spark.read.format('com.databricks.spark.csv').options(header='true', inferschema='true').load('train_gc.csv')\n",
    "df_train.createOrReplaceTempView('train')\n",
    "\n",
    "spark.sql('select * from train limit 5').show()\n",
    "\n",
    "spark.sql('select count(*) from train').show()"
   ]
  },
  {
   "cell_type": "markdown",
   "metadata": {},
   "source": [
    "# Features Extraction"
   ]
  },
  {
   "cell_type": "markdown",
   "metadata": {},
   "source": [
    "__Feature of counts: Counts of distinct values for a bidder__"
   ]
  },
  {
   "cell_type": "code",
   "execution_count": 5,
   "metadata": {},
   "outputs": [],
   "source": [
    "feature_of_counts= spark.sql('''\n",
    "select \n",
    "    bidder_id,\n",
    "    count(distinct bid_id) as bid_count,\n",
    "    count(distinct auction) as auction_count,\n",
    "    count(distinct merchandise) as merc_count,\n",
    "    count(distinct device) as device_count,\n",
    "    count(distinct country) as country_count,\n",
    "    count(distinct ip) as ip_count,\n",
    "    count(distinct url) as url_count\n",
    "from bids\n",
    "group by bidder_id''')\n",
    "feature_of_counts.createOrReplaceTempView('feature_of_counts')"
   ]
  },
  {
   "cell_type": "markdown",
   "metadata": {},
   "source": [
    "__Feature of averages: Average of distinct values per auction__"
   ]
  },
  {
   "cell_type": "code",
   "execution_count": 6,
   "metadata": {},
   "outputs": [],
   "source": [
    "feature_of_avgs= spark.sql(''' \n",
    "select \n",
    "    a.bidder_id, \n",
    "    sum(num_country)/count(distinct auction) average_distinct_country_per_auction,\n",
    "    sum(num_urls)/count(distinct auction) average_distinct_urls_per_auction,\n",
    "    sum(num_ips)/count(distinct auction) average_distinct_ip_per_auction,\n",
    "    sum(num_devices)/count(distinct auction) average_distinct_dev_per_auction,\n",
    "    sum(num_merc)/count(distinct auction) average_distinct_merc_per_auction,\n",
    "    sum(num_bids)/count(distinct auction) average_bids_per_auction,\n",
    "    count(distinct a.auction) num_auction\n",
    "from (\n",
    "    select \n",
    "        bidder_id,\n",
    "        auction,\n",
    "        count(distinct bid_id) num_bids,\n",
    "        count(distinct country) num_country,\n",
    "        count(distinct url) num_urls,\n",
    "        count(distinct ip) num_ips,\n",
    "        count(distinct device) num_devices,\n",
    "        count(distinct merchandise) num_merc\n",
    "    from bids \n",
    "    group by bidder_id,auction) a \n",
    "group by a.bidder_id''')\n",
    "feature_of_avgs.createOrReplaceTempView('feature_of_avgs')"
   ]
  },
  {
   "cell_type": "markdown",
   "metadata": {},
   "source": [
    "__Feature of time series: Resonse time in auctions by a bidder__"
   ]
  },
  {
   "cell_type": "code",
   "execution_count": 7,
   "metadata": {},
   "outputs": [],
   "source": [
    "time_lag_feature = spark.sql('''\n",
    "select \n",
    "    bidder_id,  \n",
    "    percentile_approx(delta,0.5) as median_response_time \n",
    "from \n",
    "    (SELECT \n",
    "        bidder_id, \n",
    "        auction, \n",
    "        time - lag(time, 1) OVER (partition by bidder_id,auction ORDER BY time) delta\n",
    "     FROM bids) a\n",
    "group by 1''')\n",
    "time_lag_feature.createOrReplaceTempView('time_lag_feature')"
   ]
  },
  {
   "cell_type": "markdown",
   "metadata": {},
   "source": [
    "__Feature of time series: Average response time across auctions__"
   ]
  },
  {
   "cell_type": "code",
   "execution_count": 8,
   "metadata": {},
   "outputs": [],
   "source": [
    "across_auction_time_lag_feature = spark.sql('''\n",
    "select\n",
    " bidder_id, percentile_approx(delta,0.5) as avg_response_time_across_auctions from (\n",
    "select\n",
    "    bidder_id,\n",
    "    auction,\n",
    "    first_bid_time - lag(first_bid_time, 1) OVER (partition by bidder_id ORDER BY first_bid_time) delta\n",
    "from\n",
    "    (SELECT \n",
    "        bidder_id, \n",
    "        auction, \n",
    "        Min(time) first_bid_time\n",
    "     FROM bids group by 1,2 order by bidder_id) a) b group by 1''')\n",
    "across_auction_time_lag_feature.createOrReplaceTempView('across_auction_time_lag_feature')"
   ]
  },
  {
   "cell_type": "markdown",
   "metadata": {},
   "source": [
    "__Feature of count: total no of won auctions__"
   ]
  },
  {
   "cell_type": "code",
   "execution_count": 9,
   "metadata": {},
   "outputs": [],
   "source": [
    "won_auctions = spark.sql('''\n",
    "select\n",
    "  count(distinct auction) as num_auction_won,\n",
    "  bidder_id\n",
    "from (\n",
    "select\n",
    " auction,\n",
    " bidder_id,\n",
    " rank() over (partition by auction order by time desc) as winner_rank\n",
    "from bids \n",
    ") a where winner_rank = 1\n",
    "group by bidder_id''')\n",
    "won_auctions.createOrReplaceTempView('won_auctions')"
   ]
  },
  {
   "cell_type": "markdown",
   "metadata": {},
   "source": [
    "__Feature of percentage: Average bid count per auction and no. of competitors__"
   ]
  },
  {
   "cell_type": "code",
   "execution_count": 10,
   "metadata": {},
   "outputs": [],
   "source": [
    "bid_percent = spark.sql('''\n",
    "select \n",
    "b.bidder_id, \n",
    "sum(b.bids_by_bidder_in_auction)/sum(a.bids_in_auction) as avg_bids_auction, \n",
    "sum(a.other_bidders_in_auction)/count(distinct a.auction) as competitors\n",
    "from \n",
    "  (\n",
    "     select \n",
    "       count(*) bids_in_auction,\n",
    "       count(distinct bidder_id) other_bidders_in_auction,\n",
    "       auction \n",
    "     from bids\n",
    "     group by auction\n",
    "  ) a \n",
    "  inner join \n",
    "  (\n",
    "    select \n",
    "      bidder_id, \n",
    "      auction, \n",
    "      count(*) bids_by_bidder_in_auction \n",
    "    from \n",
    "    bids \n",
    "    group by bidder_id,auction\n",
    "  ) b on a.auction = b.auction \n",
    "group by bidder_id''')\n",
    "bid_percent.createOrReplaceTempView('bid_percent')"
   ]
  },
  {
   "cell_type": "markdown",
   "metadata": {},
   "source": [
    "__Feature of time series: Median response time of a bidder and __"
   ]
  },
  {
   "cell_type": "code",
   "execution_count": 11,
   "metadata": {},
   "outputs": [],
   "source": [
    "time_to_respond = spark.sql('''\n",
    "select\n",
    " bidder_id,\n",
    " percentile_approx(time_to_respond_comp,0.5) as median_time_to_respond_competition,\n",
    " percentile_approx(time_to_respond_self,0.5) as median_time_to_respond_self\n",
    " from (\n",
    "  Select\n",
    "  bidder_id,\n",
    "  case when bidder_id != previous_bidder_id\n",
    "      then (time - time_to_respond_competiton)\n",
    "      else 0\n",
    "  end as time_to_respond_comp,\n",
    "  time_to_respond_self\n",
    "  from\n",
    "    (SELECT \n",
    "        bidder_id, \n",
    "        auction, \n",
    "        time,\n",
    "        lag(bidder_id,1) over (partition by auction order by time) as previous_bidder_id,\n",
    "        lag(time, 1) over (partition by auction order by time) as time_to_respond_competiton,\n",
    "        nvl(time - lag(time, 1) over (partition by auction,bidder_id order by time), -1) as time_to_respond_self\n",
    "    from bids) a\n",
    ") b\n",
    "group by bidder_id\n",
    "''')\n",
    "time_to_respond.createOrReplaceTempView('time_to_respond')\n"
   ]
  },
  {
   "cell_type": "markdown",
   "metadata": {},
   "source": [
    "__All Features joined with train data__"
   ]
  },
  {
   "cell_type": "code",
   "execution_count": 12,
   "metadata": {},
   "outputs": [
    {
     "data": {
      "text/plain": [
       "1984"
      ]
     },
     "execution_count": 12,
     "metadata": {},
     "output_type": "execute_result"
    }
   ],
   "source": [
    "feature_of_all_train= spark.sql('''\n",
    "select \n",
    "    a.bidder_id,\n",
    "    a.bid_count,\n",
    "    a.auction_count,\n",
    "    a.merc_count,\n",
    "    a.device_count,\n",
    "    a.country_count,\n",
    "    a.ip_count,\n",
    "    a.url_count,\n",
    "    round(b.average_distinct_country_per_auction,3) average_distinct_country_per_auction, \n",
    "    round(b.average_distinct_urls_per_auction,3) average_distinct_urls_per_auction,\n",
    "    round(b.average_distinct_ip_per_auction,3) average_distinct_ip_per_auction,\n",
    "    round(b.average_distinct_dev_per_auction,3) average_distinct_dev_per_auction,\n",
    "    round(b.average_distinct_merc_per_auction,3) average_distinct_merc_per_auction,\n",
    "    round(b.average_bids_per_auction,3) average_bids_per_auction,\n",
    "    nvl(tl.median_response_time,0) median_response_time,\n",
    "    nvl(aatl.avg_response_time_across_auctions,0) median_response_time_across_auction,\n",
    "    b.num_auction,\n",
    "    nvl(wa.num_auction_won,0) num_auction_won,\n",
    "    nvl(wa.num_auction_won,0)/b.num_auction percentage_win,\n",
    "    bp.avg_bids_auction,\n",
    "    bp.competitors,\n",
    "    tr.median_time_to_respond_competition,\n",
    "    tr.median_time_to_respond_self,\n",
    "    t.outcome\n",
    "from feature_of_counts a \n",
    "    join train t \n",
    "        on a.bidder_id = t.bidder_id\n",
    "    join feature_of_avgs b \n",
    "        on t.bidder_id = b.bidder_id \n",
    "    join time_lag_feature tl\n",
    "        on b.bidder_id = tl.bidder_id\n",
    "    join across_auction_time_lag_feature aatl\n",
    "        on tl.bidder_id = aatl.bidder_id\n",
    "    join bid_percent bp\n",
    "        on aatl.bidder_id = bp.bidder_id\n",
    "    join time_to_respond tr\n",
    "        on bp.bidder_id = tr.bidder_id\n",
    "    left outer join won_auctions wa\n",
    "        on tr.bidder_id = wa.bidder_id''')\n",
    "\n",
    "\n",
    "feature_of_all_train.count()"
   ]
  },
  {
   "cell_type": "markdown",
   "metadata": {},
   "source": [
    "__Creating csv file__"
   ]
  },
  {
   "cell_type": "code",
   "execution_count": 13,
   "metadata": {},
   "outputs": [],
   "source": [
    "feature_of_all_train.repartition(1).write.format(\"com.databricks.spark.csv\").option(\"header\",\"true\").save(\"train_data_withfeatures\")"
   ]
  },
  {
   "cell_type": "code",
   "execution_count": 14,
   "metadata": {},
   "outputs": [
    {
     "data": {
      "text/plain": [
       "(1984, 24)"
      ]
     },
     "execution_count": 14,
     "metadata": {},
     "output_type": "execute_result"
    }
   ],
   "source": [
    "csv = pd.read_csv('train_data_withfeatures/saved.csv')\n",
    "csv.shape"
   ]
  },
  {
   "cell_type": "code",
   "execution_count": 31,
   "metadata": {},
   "outputs": [
    {
     "data": {
      "text/html": [
       "<div>\n",
       "<style scoped>\n",
       "    .dataframe tbody tr th:only-of-type {\n",
       "        vertical-align: middle;\n",
       "    }\n",
       "\n",
       "    .dataframe tbody tr th {\n",
       "        vertical-align: top;\n",
       "    }\n",
       "\n",
       "    .dataframe thead th {\n",
       "        text-align: right;\n",
       "    }\n",
       "</style>\n",
       "<table border=\"1\" class=\"dataframe\">\n",
       "  <thead>\n",
       "    <tr style=\"text-align: right;\">\n",
       "      <th></th>\n",
       "      <th>bidder_id</th>\n",
       "      <th>bid_count</th>\n",
       "      <th>auction_count</th>\n",
       "      <th>merc_count</th>\n",
       "      <th>device_count</th>\n",
       "      <th>country_count</th>\n",
       "      <th>ip_count</th>\n",
       "      <th>url_count</th>\n",
       "      <th>average_distinct_country_per_auction</th>\n",
       "      <th>average_distinct_urls_per_auction</th>\n",
       "      <th>...</th>\n",
       "      <th>median_response_time</th>\n",
       "      <th>median_response_time_across_auction</th>\n",
       "      <th>num_auction</th>\n",
       "      <th>num_auction_won</th>\n",
       "      <th>percentage_win</th>\n",
       "      <th>avg_bids_auction</th>\n",
       "      <th>competitors</th>\n",
       "      <th>median_time_to_respond_competition</th>\n",
       "      <th>median_time_to_respond_self</th>\n",
       "      <th>outcome</th>\n",
       "    </tr>\n",
       "  </thead>\n",
       "  <tbody>\n",
       "    <tr>\n",
       "      <th>0</th>\n",
       "      <td>001068c415025a009fee375a12cff4fcnht8y</td>\n",
       "      <td>1</td>\n",
       "      <td>1</td>\n",
       "      <td>1</td>\n",
       "      <td>1</td>\n",
       "      <td>1</td>\n",
       "      <td>1</td>\n",
       "      <td>1</td>\n",
       "      <td>1.000</td>\n",
       "      <td>1.000</td>\n",
       "      <td>...</td>\n",
       "      <td>0</td>\n",
       "      <td>0</td>\n",
       "      <td>1</td>\n",
       "      <td>0</td>\n",
       "      <td>0.000000</td>\n",
       "      <td>0.000492</td>\n",
       "      <td>153.000000</td>\n",
       "      <td>3842105263</td>\n",
       "      <td>-1</td>\n",
       "      <td>0.0</td>\n",
       "    </tr>\n",
       "    <tr>\n",
       "      <th>1</th>\n",
       "      <td>0030a2dd87ad2733e0873062e4f83954mkj86</td>\n",
       "      <td>1</td>\n",
       "      <td>1</td>\n",
       "      <td>1</td>\n",
       "      <td>1</td>\n",
       "      <td>1</td>\n",
       "      <td>1</td>\n",
       "      <td>1</td>\n",
       "      <td>1.000</td>\n",
       "      <td>1.000</td>\n",
       "      <td>...</td>\n",
       "      <td>0</td>\n",
       "      <td>0</td>\n",
       "      <td>1</td>\n",
       "      <td>0</td>\n",
       "      <td>0.000000</td>\n",
       "      <td>0.000036</td>\n",
       "      <td>425.000000</td>\n",
       "      <td>736842106</td>\n",
       "      <td>-1</td>\n",
       "      <td>0.0</td>\n",
       "    </tr>\n",
       "    <tr>\n",
       "      <th>2</th>\n",
       "      <td>00a0517965f18610417ee784a05f494d4dw6e</td>\n",
       "      <td>141</td>\n",
       "      <td>74</td>\n",
       "      <td>1</td>\n",
       "      <td>67</td>\n",
       "      <td>16</td>\n",
       "      <td>103</td>\n",
       "      <td>84</td>\n",
       "      <td>1.000</td>\n",
       "      <td>1.757</td>\n",
       "      <td>...</td>\n",
       "      <td>515315789474</td>\n",
       "      <td>180473684210</td>\n",
       "      <td>74</td>\n",
       "      <td>0</td>\n",
       "      <td>0.000000</td>\n",
       "      <td>0.000262</td>\n",
       "      <td>232.000000</td>\n",
       "      <td>947368421</td>\n",
       "      <td>-1</td>\n",
       "      <td>0.0</td>\n",
       "    </tr>\n",
       "    <tr>\n",
       "      <th>3</th>\n",
       "      <td>00cc97158e6f4cb8eac3c0075918b7ffi5k8o</td>\n",
       "      <td>3</td>\n",
       "      <td>3</td>\n",
       "      <td>1</td>\n",
       "      <td>3</td>\n",
       "      <td>2</td>\n",
       "      <td>3</td>\n",
       "      <td>1</td>\n",
       "      <td>1.000</td>\n",
       "      <td>1.000</td>\n",
       "      <td>...</td>\n",
       "      <td>0</td>\n",
       "      <td>54052631579</td>\n",
       "      <td>3</td>\n",
       "      <td>0</td>\n",
       "      <td>0.000000</td>\n",
       "      <td>0.000159</td>\n",
       "      <td>376.000000</td>\n",
       "      <td>157894737</td>\n",
       "      <td>-1</td>\n",
       "      <td>0.0</td>\n",
       "    </tr>\n",
       "    <tr>\n",
       "      <th>4</th>\n",
       "      <td>01067975436d123f717ee5aba0dd4bbfa0937</td>\n",
       "      <td>543</td>\n",
       "      <td>17</td>\n",
       "      <td>1</td>\n",
       "      <td>165</td>\n",
       "      <td>71</td>\n",
       "      <td>398</td>\n",
       "      <td>4</td>\n",
       "      <td>4.882</td>\n",
       "      <td>1.118</td>\n",
       "      <td>...</td>\n",
       "      <td>15631578947</td>\n",
       "      <td>371789473684</td>\n",
       "      <td>17</td>\n",
       "      <td>1</td>\n",
       "      <td>0.058824</td>\n",
       "      <td>0.002174</td>\n",
       "      <td>142.882353</td>\n",
       "      <td>52631579</td>\n",
       "      <td>15000000000</td>\n",
       "      <td>0.0</td>\n",
       "    </tr>\n",
       "  </tbody>\n",
       "</table>\n",
       "<p>5 rows × 24 columns</p>\n",
       "</div>"
      ],
      "text/plain": [
       "                               bidder_id  bid_count  auction_count  \\\n",
       "0  001068c415025a009fee375a12cff4fcnht8y          1              1   \n",
       "1  0030a2dd87ad2733e0873062e4f83954mkj86          1              1   \n",
       "2  00a0517965f18610417ee784a05f494d4dw6e        141             74   \n",
       "3  00cc97158e6f4cb8eac3c0075918b7ffi5k8o          3              3   \n",
       "4  01067975436d123f717ee5aba0dd4bbfa0937        543             17   \n",
       "\n",
       "   merc_count  device_count  country_count  ip_count  url_count  \\\n",
       "0           1             1              1         1          1   \n",
       "1           1             1              1         1          1   \n",
       "2           1            67             16       103         84   \n",
       "3           1             3              2         3          1   \n",
       "4           1           165             71       398          4   \n",
       "\n",
       "   average_distinct_country_per_auction  average_distinct_urls_per_auction  \\\n",
       "0                                 1.000                              1.000   \n",
       "1                                 1.000                              1.000   \n",
       "2                                 1.000                              1.757   \n",
       "3                                 1.000                              1.000   \n",
       "4                                 4.882                              1.118   \n",
       "\n",
       "   ...  median_response_time  median_response_time_across_auction  \\\n",
       "0  ...                     0                                    0   \n",
       "1  ...                     0                                    0   \n",
       "2  ...          515315789474                         180473684210   \n",
       "3  ...                     0                          54052631579   \n",
       "4  ...           15631578947                         371789473684   \n",
       "\n",
       "   num_auction  num_auction_won  percentage_win  avg_bids_auction  \\\n",
       "0            1                0        0.000000          0.000492   \n",
       "1            1                0        0.000000          0.000036   \n",
       "2           74                0        0.000000          0.000262   \n",
       "3            3                0        0.000000          0.000159   \n",
       "4           17                1        0.058824          0.002174   \n",
       "\n",
       "   competitors  median_time_to_respond_competition  \\\n",
       "0   153.000000                          3842105263   \n",
       "1   425.000000                           736842106   \n",
       "2   232.000000                           947368421   \n",
       "3   376.000000                           157894737   \n",
       "4   142.882353                            52631579   \n",
       "\n",
       "   median_time_to_respond_self  outcome  \n",
       "0                           -1      0.0  \n",
       "1                           -1      0.0  \n",
       "2                           -1      0.0  \n",
       "3                           -1      0.0  \n",
       "4                  15000000000      0.0  \n",
       "\n",
       "[5 rows x 24 columns]"
      ]
     },
     "execution_count": 31,
     "metadata": {},
     "output_type": "execute_result"
    }
   ],
   "source": [
    "csv.head()"
   ]
  },
  {
   "cell_type": "code",
   "execution_count": null,
   "metadata": {},
   "outputs": [],
   "source": [
    "# feature_of_all_test.repartition(1).write.format(\"com.databricks.spark.csv\").option(\"header\", \"true\").save(\"test_data_withfeature.csv\")"
   ]
  },
  {
   "cell_type": "markdown",
   "metadata": {},
   "source": [
    "__Joining bids and train files__"
   ]
  },
  {
   "cell_type": "code",
   "execution_count": 15,
   "metadata": {},
   "outputs": [],
   "source": [
    "bids_join_train= spark.sql('''\n",
    "select a.*, b.outcome from bids a inner join train b on a.bidder_id = b.bidder_id\n",
    "''')\n",
    "bids_join_train.createOrReplaceTempView('bids_join_train')"
   ]
  },
  {
   "cell_type": "markdown",
   "metadata": {},
   "source": [
    "__Calculating no of Bots and Human__"
   ]
  },
  {
   "cell_type": "code",
   "execution_count": 16,
   "metadata": {},
   "outputs": [],
   "source": [
    "hu_vs_bots = spark.sql('''\n",
    "select \n",
    "        outcome,\n",
    "        max(c_by_outcome) c_by_outcome, \n",
    "        max(perc_bids) perc_bids, \n",
    "        max(perc_a_h_v_b) perc_a_h_v_b, \n",
    "        max(t_c) t_c,\n",
    "        avg(perc_by_auction) as avg_bids_by_auction\n",
    "from\n",
    "    (select \n",
    "        distinct \n",
    "            outcome,\n",
    "            auction, \n",
    "            count(*) over(partition by outcome) c_by_outcome,\n",
    "            count(*) over(partition by auction,outcome)/count(*) over(partition by auction) as perc_by_auction, \n",
    "            count(*) over(partition by outcome) /count(*) over () perc_bids,\n",
    "            sum(wa.num_auction_won) over(partition by outcome)/sum(wa.num_auction_won) over() perc_a_h_v_b,\n",
    "            count(*) over() t_c\n",
    "    from \n",
    "        bids_join_train bt \n",
    "            left outer join \n",
    "        won_auctions wa\n",
    "            on bt.bidder_id = wa.bidder_id) a \n",
    "    group by outcome\n",
    "''')\n",
    "hu_vs_bots.createOrReplaceTempView('hu_vs_bots')"
   ]
  },
  {
   "cell_type": "code",
   "execution_count": 17,
   "metadata": {
    "collapsed": true
   },
   "outputs": [
    {
     "name": "stderr",
     "output_type": "stream",
     "text": [
      "ERROR:root:KeyboardInterrupt while sending command.\n",
      "Traceback (most recent call last):\n",
      "  File \"/data/samaurya/anaconda/lib/python3.8/site-packages/py4j/java_gateway.py\", line 1038, in send_command\n",
      "    response = connection.send_command(command)\n",
      "  File \"/data/samaurya/anaconda/lib/python3.8/site-packages/py4j/clientserver.py\", line 475, in send_command\n",
      "    answer = smart_decode(self.stream.readline()[:-1])\n",
      "  File \"/data/samaurya/anaconda/lib/python3.8/socket.py\", line 669, in readinto\n",
      "    return self._sock.recv_into(b)\n",
      "KeyboardInterrupt\n"
     ]
    },
    {
     "ename": "KeyboardInterrupt",
     "evalue": "",
     "output_type": "error",
     "traceback": [
      "\u001b[0;31m---------------------------------------------------------------------------\u001b[0m",
      "\u001b[0;31mKeyboardInterrupt\u001b[0m                         Traceback (most recent call last)",
      "\u001b[0;32m<ipython-input-17-e2652fc478da>\u001b[0m in \u001b[0;36m<module>\u001b[0;34m\u001b[0m\n\u001b[0;32m----> 1\u001b[0;31m \u001b[0mhu_vs_bots\u001b[0m\u001b[0;34m.\u001b[0m\u001b[0mshow\u001b[0m\u001b[0;34m(\u001b[0m\u001b[0;34m)\u001b[0m\u001b[0;34m\u001b[0m\u001b[0;34m\u001b[0m\u001b[0m\n\u001b[0m",
      "\u001b[0;32m/data/samaurya/anaconda/lib/python3.8/site-packages/pyspark/sql/dataframe.py\u001b[0m in \u001b[0;36mshow\u001b[0;34m(self, n, truncate, vertical)\u001b[0m\n\u001b[1;32m    492\u001b[0m \u001b[0;34m\u001b[0m\u001b[0m\n\u001b[1;32m    493\u001b[0m         \u001b[0;32mif\u001b[0m \u001b[0misinstance\u001b[0m\u001b[0;34m(\u001b[0m\u001b[0mtruncate\u001b[0m\u001b[0;34m,\u001b[0m \u001b[0mbool\u001b[0m\u001b[0;34m)\u001b[0m \u001b[0;32mand\u001b[0m \u001b[0mtruncate\u001b[0m\u001b[0;34m:\u001b[0m\u001b[0;34m\u001b[0m\u001b[0;34m\u001b[0m\u001b[0m\n\u001b[0;32m--> 494\u001b[0;31m             \u001b[0mprint\u001b[0m\u001b[0;34m(\u001b[0m\u001b[0mself\u001b[0m\u001b[0;34m.\u001b[0m\u001b[0m_jdf\u001b[0m\u001b[0;34m.\u001b[0m\u001b[0mshowString\u001b[0m\u001b[0;34m(\u001b[0m\u001b[0mn\u001b[0m\u001b[0;34m,\u001b[0m \u001b[0;36m20\u001b[0m\u001b[0;34m,\u001b[0m \u001b[0mvertical\u001b[0m\u001b[0;34m)\u001b[0m\u001b[0;34m)\u001b[0m\u001b[0;34m\u001b[0m\u001b[0;34m\u001b[0m\u001b[0m\n\u001b[0m\u001b[1;32m    495\u001b[0m         \u001b[0;32melse\u001b[0m\u001b[0;34m:\u001b[0m\u001b[0;34m\u001b[0m\u001b[0;34m\u001b[0m\u001b[0m\n\u001b[1;32m    496\u001b[0m             \u001b[0;32mtry\u001b[0m\u001b[0;34m:\u001b[0m\u001b[0;34m\u001b[0m\u001b[0;34m\u001b[0m\u001b[0m\n",
      "\u001b[0;32m/data/samaurya/anaconda/lib/python3.8/site-packages/py4j/java_gateway.py\u001b[0m in \u001b[0;36m__call__\u001b[0;34m(self, *args)\u001b[0m\n\u001b[1;32m   1318\u001b[0m             \u001b[0mproto\u001b[0m\u001b[0;34m.\u001b[0m\u001b[0mEND_COMMAND_PART\u001b[0m\u001b[0;34m\u001b[0m\u001b[0;34m\u001b[0m\u001b[0m\n\u001b[1;32m   1319\u001b[0m \u001b[0;34m\u001b[0m\u001b[0m\n\u001b[0;32m-> 1320\u001b[0;31m         \u001b[0manswer\u001b[0m \u001b[0;34m=\u001b[0m \u001b[0mself\u001b[0m\u001b[0;34m.\u001b[0m\u001b[0mgateway_client\u001b[0m\u001b[0;34m.\u001b[0m\u001b[0msend_command\u001b[0m\u001b[0;34m(\u001b[0m\u001b[0mcommand\u001b[0m\u001b[0;34m)\u001b[0m\u001b[0;34m\u001b[0m\u001b[0;34m\u001b[0m\u001b[0m\n\u001b[0m\u001b[1;32m   1321\u001b[0m         return_value = get_return_value(\n\u001b[1;32m   1322\u001b[0m             answer, self.gateway_client, self.target_id, self.name)\n",
      "\u001b[0;32m/data/samaurya/anaconda/lib/python3.8/site-packages/py4j/java_gateway.py\u001b[0m in \u001b[0;36msend_command\u001b[0;34m(self, command, retry, binary)\u001b[0m\n\u001b[1;32m   1036\u001b[0m         \u001b[0mconnection\u001b[0m \u001b[0;34m=\u001b[0m \u001b[0mself\u001b[0m\u001b[0;34m.\u001b[0m\u001b[0m_get_connection\u001b[0m\u001b[0;34m(\u001b[0m\u001b[0;34m)\u001b[0m\u001b[0;34m\u001b[0m\u001b[0;34m\u001b[0m\u001b[0m\n\u001b[1;32m   1037\u001b[0m         \u001b[0;32mtry\u001b[0m\u001b[0;34m:\u001b[0m\u001b[0;34m\u001b[0m\u001b[0;34m\u001b[0m\u001b[0m\n\u001b[0;32m-> 1038\u001b[0;31m             \u001b[0mresponse\u001b[0m \u001b[0;34m=\u001b[0m \u001b[0mconnection\u001b[0m\u001b[0;34m.\u001b[0m\u001b[0msend_command\u001b[0m\u001b[0;34m(\u001b[0m\u001b[0mcommand\u001b[0m\u001b[0;34m)\u001b[0m\u001b[0;34m\u001b[0m\u001b[0;34m\u001b[0m\u001b[0m\n\u001b[0m\u001b[1;32m   1039\u001b[0m             \u001b[0;32mif\u001b[0m \u001b[0mbinary\u001b[0m\u001b[0;34m:\u001b[0m\u001b[0;34m\u001b[0m\u001b[0;34m\u001b[0m\u001b[0m\n\u001b[1;32m   1040\u001b[0m                 \u001b[0;32mreturn\u001b[0m \u001b[0mresponse\u001b[0m\u001b[0;34m,\u001b[0m \u001b[0mself\u001b[0m\u001b[0;34m.\u001b[0m\u001b[0m_create_connection_guard\u001b[0m\u001b[0;34m(\u001b[0m\u001b[0mconnection\u001b[0m\u001b[0;34m)\u001b[0m\u001b[0;34m\u001b[0m\u001b[0;34m\u001b[0m\u001b[0m\n",
      "\u001b[0;32m/data/samaurya/anaconda/lib/python3.8/site-packages/py4j/clientserver.py\u001b[0m in \u001b[0;36msend_command\u001b[0;34m(self, command)\u001b[0m\n\u001b[1;32m    473\u001b[0m         \u001b[0;32mtry\u001b[0m\u001b[0;34m:\u001b[0m\u001b[0;34m\u001b[0m\u001b[0;34m\u001b[0m\u001b[0m\n\u001b[1;32m    474\u001b[0m             \u001b[0;32mwhile\u001b[0m \u001b[0;32mTrue\u001b[0m\u001b[0;34m:\u001b[0m\u001b[0;34m\u001b[0m\u001b[0;34m\u001b[0m\u001b[0m\n\u001b[0;32m--> 475\u001b[0;31m                 \u001b[0manswer\u001b[0m \u001b[0;34m=\u001b[0m \u001b[0msmart_decode\u001b[0m\u001b[0;34m(\u001b[0m\u001b[0mself\u001b[0m\u001b[0;34m.\u001b[0m\u001b[0mstream\u001b[0m\u001b[0;34m.\u001b[0m\u001b[0mreadline\u001b[0m\u001b[0;34m(\u001b[0m\u001b[0;34m)\u001b[0m\u001b[0;34m[\u001b[0m\u001b[0;34m:\u001b[0m\u001b[0;34m-\u001b[0m\u001b[0;36m1\u001b[0m\u001b[0;34m]\u001b[0m\u001b[0;34m)\u001b[0m\u001b[0;34m\u001b[0m\u001b[0;34m\u001b[0m\u001b[0m\n\u001b[0m\u001b[1;32m    476\u001b[0m                 \u001b[0mlogger\u001b[0m\u001b[0;34m.\u001b[0m\u001b[0mdebug\u001b[0m\u001b[0;34m(\u001b[0m\u001b[0;34m\"Answer received: {0}\"\u001b[0m\u001b[0;34m.\u001b[0m\u001b[0mformat\u001b[0m\u001b[0;34m(\u001b[0m\u001b[0manswer\u001b[0m\u001b[0;34m)\u001b[0m\u001b[0;34m)\u001b[0m\u001b[0;34m\u001b[0m\u001b[0;34m\u001b[0m\u001b[0m\n\u001b[1;32m    477\u001b[0m                 \u001b[0;31m# Happens when a the other end is dead. There might be an empty\u001b[0m\u001b[0;34m\u001b[0m\u001b[0;34m\u001b[0m\u001b[0;34m\u001b[0m\u001b[0m\n",
      "\u001b[0;32m/data/samaurya/anaconda/lib/python3.8/socket.py\u001b[0m in \u001b[0;36mreadinto\u001b[0;34m(self, b)\u001b[0m\n\u001b[1;32m    667\u001b[0m         \u001b[0;32mwhile\u001b[0m \u001b[0;32mTrue\u001b[0m\u001b[0;34m:\u001b[0m\u001b[0;34m\u001b[0m\u001b[0;34m\u001b[0m\u001b[0m\n\u001b[1;32m    668\u001b[0m             \u001b[0;32mtry\u001b[0m\u001b[0;34m:\u001b[0m\u001b[0;34m\u001b[0m\u001b[0;34m\u001b[0m\u001b[0m\n\u001b[0;32m--> 669\u001b[0;31m                 \u001b[0;32mreturn\u001b[0m \u001b[0mself\u001b[0m\u001b[0;34m.\u001b[0m\u001b[0m_sock\u001b[0m\u001b[0;34m.\u001b[0m\u001b[0mrecv_into\u001b[0m\u001b[0;34m(\u001b[0m\u001b[0mb\u001b[0m\u001b[0;34m)\u001b[0m\u001b[0;34m\u001b[0m\u001b[0;34m\u001b[0m\u001b[0m\n\u001b[0m\u001b[1;32m    670\u001b[0m             \u001b[0;32mexcept\u001b[0m \u001b[0mtimeout\u001b[0m\u001b[0;34m:\u001b[0m\u001b[0;34m\u001b[0m\u001b[0;34m\u001b[0m\u001b[0m\n\u001b[1;32m    671\u001b[0m                 \u001b[0mself\u001b[0m\u001b[0;34m.\u001b[0m\u001b[0m_timeout_occurred\u001b[0m \u001b[0;34m=\u001b[0m \u001b[0;32mTrue\u001b[0m\u001b[0;34m\u001b[0m\u001b[0;34m\u001b[0m\u001b[0m\n",
      "\u001b[0;31mKeyboardInterrupt\u001b[0m: "
     ]
    }
   ],
   "source": [
    "hu_vs_bots.show()"
   ]
  },
  {
   "cell_type": "markdown",
   "metadata": {},
   "source": [
    "__Making sure that spark generate one file of all data__"
   ]
  },
  {
   "cell_type": "code",
   "execution_count": 15,
   "metadata": {},
   "outputs": [],
   "source": [
    "bids_join_train.repartition(1).write.format(\"com.databricks.spark.csv\").option(\"header\", \"true\").save(\"bids_join_train.csv\")"
   ]
  },
  {
   "cell_type": "markdown",
   "metadata": {},
   "source": [
    "### Visualizations for EDA"
   ]
  },
  {
   "cell_type": "markdown",
   "metadata": {},
   "source": [
    "__Uploading newly generated file with all features__"
   ]
  },
  {
   "cell_type": "code",
   "execution_count": 309,
   "metadata": {},
   "outputs": [],
   "source": [
    "df_bids_outcome = pd.read_csv('data.csv')"
   ]
  },
  {
   "cell_type": "code",
   "execution_count": 310,
   "metadata": {},
   "outputs": [
    {
     "data": {
      "text/html": [
       "<div>\n",
       "<style scoped>\n",
       "    .dataframe tbody tr th:only-of-type {\n",
       "        vertical-align: middle;\n",
       "    }\n",
       "\n",
       "    .dataframe tbody tr th {\n",
       "        vertical-align: top;\n",
       "    }\n",
       "\n",
       "    .dataframe thead th {\n",
       "        text-align: right;\n",
       "    }\n",
       "</style>\n",
       "<table border=\"1\" class=\"dataframe\">\n",
       "  <thead>\n",
       "    <tr style=\"text-align: right;\">\n",
       "      <th></th>\n",
       "      <th>Unnamed: 0</th>\n",
       "      <th>bidder_id</th>\n",
       "      <th>payment_account</th>\n",
       "      <th>address</th>\n",
       "      <th>outcome</th>\n",
       "      <th>bid_id</th>\n",
       "      <th>auction</th>\n",
       "      <th>merchandise</th>\n",
       "      <th>device</th>\n",
       "      <th>time</th>\n",
       "      <th>country</th>\n",
       "      <th>ip</th>\n",
       "      <th>url</th>\n",
       "    </tr>\n",
       "  </thead>\n",
       "  <tbody>\n",
       "    <tr>\n",
       "      <th>0</th>\n",
       "      <td>0</td>\n",
       "      <td>91a3c57b13234af24875c56fb7e2b2f4rb56a</td>\n",
       "      <td>a3d2de7675556553a5f08e4c88d2c228754av</td>\n",
       "      <td>a3d2de7675556553a5f08e4c88d2c228vt0u4</td>\n",
       "      <td>0.0</td>\n",
       "      <td>85371.0</td>\n",
       "      <td>yitr4</td>\n",
       "      <td>home goods</td>\n",
       "      <td>phone35</td>\n",
       "      <td>9.759489e+15</td>\n",
       "      <td>ke</td>\n",
       "      <td>82.34.177.248</td>\n",
       "      <td>vasstdc27m7nks3</td>\n",
       "    </tr>\n",
       "    <tr>\n",
       "      <th>1</th>\n",
       "      <td>1</td>\n",
       "      <td>91a3c57b13234af24875c56fb7e2b2f4rb56a</td>\n",
       "      <td>a3d2de7675556553a5f08e4c88d2c228754av</td>\n",
       "      <td>a3d2de7675556553a5f08e4c88d2c228vt0u4</td>\n",
       "      <td>0.0</td>\n",
       "      <td>274487.0</td>\n",
       "      <td>btpyy</td>\n",
       "      <td>home goods</td>\n",
       "      <td>phone1004</td>\n",
       "      <td>9.760249e+15</td>\n",
       "      <td>zm</td>\n",
       "      <td>202.130.71.167</td>\n",
       "      <td>vasstdc27m7nks3</td>\n",
       "    </tr>\n",
       "    <tr>\n",
       "      <th>2</th>\n",
       "      <td>2</td>\n",
       "      <td>91a3c57b13234af24875c56fb7e2b2f4rb56a</td>\n",
       "      <td>a3d2de7675556553a5f08e4c88d2c228754av</td>\n",
       "      <td>a3d2de7675556553a5f08e4c88d2c228vt0u4</td>\n",
       "      <td>0.0</td>\n",
       "      <td>527436.0</td>\n",
       "      <td>kj2ko</td>\n",
       "      <td>home goods</td>\n",
       "      <td>phone4</td>\n",
       "      <td>9.762261e+15</td>\n",
       "      <td>ke</td>\n",
       "      <td>22.54.76.225</td>\n",
       "      <td>vasstdc27m7nks3</td>\n",
       "    </tr>\n",
       "    <tr>\n",
       "      <th>3</th>\n",
       "      <td>3</td>\n",
       "      <td>91a3c57b13234af24875c56fb7e2b2f4rb56a</td>\n",
       "      <td>a3d2de7675556553a5f08e4c88d2c228754av</td>\n",
       "      <td>a3d2de7675556553a5f08e4c88d2c228vt0u4</td>\n",
       "      <td>0.0</td>\n",
       "      <td>554135.0</td>\n",
       "      <td>1m5t8</td>\n",
       "      <td>home goods</td>\n",
       "      <td>phone4</td>\n",
       "      <td>9.762431e+15</td>\n",
       "      <td>ke</td>\n",
       "      <td>32.13.237.126</td>\n",
       "      <td>vasstdc27m7nks3</td>\n",
       "    </tr>\n",
       "    <tr>\n",
       "      <th>4</th>\n",
       "      <td>4</td>\n",
       "      <td>91a3c57b13234af24875c56fb7e2b2f4rb56a</td>\n",
       "      <td>a3d2de7675556553a5f08e4c88d2c228754av</td>\n",
       "      <td>a3d2de7675556553a5f08e4c88d2c228vt0u4</td>\n",
       "      <td>0.0</td>\n",
       "      <td>607628.0</td>\n",
       "      <td>btpyy</td>\n",
       "      <td>home goods</td>\n",
       "      <td>phone4</td>\n",
       "      <td>9.762789e+15</td>\n",
       "      <td>ke</td>\n",
       "      <td>202.236.188.240</td>\n",
       "      <td>vasstdc27m7nks3</td>\n",
       "    </tr>\n",
       "  </tbody>\n",
       "</table>\n",
       "</div>"
      ],
      "text/plain": [
       "   Unnamed: 0                              bidder_id  \\\n",
       "0           0  91a3c57b13234af24875c56fb7e2b2f4rb56a   \n",
       "1           1  91a3c57b13234af24875c56fb7e2b2f4rb56a   \n",
       "2           2  91a3c57b13234af24875c56fb7e2b2f4rb56a   \n",
       "3           3  91a3c57b13234af24875c56fb7e2b2f4rb56a   \n",
       "4           4  91a3c57b13234af24875c56fb7e2b2f4rb56a   \n",
       "\n",
       "                         payment_account  \\\n",
       "0  a3d2de7675556553a5f08e4c88d2c228754av   \n",
       "1  a3d2de7675556553a5f08e4c88d2c228754av   \n",
       "2  a3d2de7675556553a5f08e4c88d2c228754av   \n",
       "3  a3d2de7675556553a5f08e4c88d2c228754av   \n",
       "4  a3d2de7675556553a5f08e4c88d2c228754av   \n",
       "\n",
       "                                 address  outcome    bid_id auction  \\\n",
       "0  a3d2de7675556553a5f08e4c88d2c228vt0u4      0.0   85371.0   yitr4   \n",
       "1  a3d2de7675556553a5f08e4c88d2c228vt0u4      0.0  274487.0   btpyy   \n",
       "2  a3d2de7675556553a5f08e4c88d2c228vt0u4      0.0  527436.0   kj2ko   \n",
       "3  a3d2de7675556553a5f08e4c88d2c228vt0u4      0.0  554135.0   1m5t8   \n",
       "4  a3d2de7675556553a5f08e4c88d2c228vt0u4      0.0  607628.0   btpyy   \n",
       "\n",
       "  merchandise     device          time country               ip  \\\n",
       "0  home goods    phone35  9.759489e+15      ke    82.34.177.248   \n",
       "1  home goods  phone1004  9.760249e+15      zm   202.130.71.167   \n",
       "2  home goods     phone4  9.762261e+15      ke     22.54.76.225   \n",
       "3  home goods     phone4  9.762431e+15      ke    32.13.237.126   \n",
       "4  home goods     phone4  9.762789e+15      ke  202.236.188.240   \n",
       "\n",
       "               url  \n",
       "0  vasstdc27m7nks3  \n",
       "1  vasstdc27m7nks3  \n",
       "2  vasstdc27m7nks3  \n",
       "3  vasstdc27m7nks3  \n",
       "4  vasstdc27m7nks3  "
      ]
     },
     "execution_count": 310,
     "metadata": {},
     "output_type": "execute_result"
    }
   ],
   "source": [
    "df_bids_outcome.head()"
   ]
  },
  {
   "cell_type": "code",
   "execution_count": 311,
   "metadata": {},
   "outputs": [],
   "source": [
    "group_df=[]\n",
    "\n",
    "group_df.append(pd.DataFrame(df_bids_outcome.groupby(['bidder_id','outcome']).size().reset_index(name = \"bid_count\")).dropna())\n",
    "group_df.append(pd.DataFrame(df_bids_outcome.groupby(['auction']).size().reset_index(name = \"bid_count\")).dropna())\n",
    "group_df.append(pd.DataFrame(df_bids_outcome.groupby(['merchandise']).size().reset_index(name = \"bid_count\")).dropna())\n",
    "group_df.append(pd.DataFrame(df_bids_outcome.groupby(['country']).size().reset_index(name = \"bid_count\")).dropna())\n",
    "names = ['by = bidder_id', 'by = auction', 'by = merchandise', 'by = country']\n"
   ]
  },
  {
   "cell_type": "markdown",
   "metadata": {},
   "source": [
    "__Log distribution plot of bid counts__"
   ]
  },
  {
   "cell_type": "code",
   "execution_count": 312,
   "metadata": {},
   "outputs": [
    {
     "data": {
      "image/png": "[encoded data removed]",
      "text/plain": [
       "<Figure size 720x432 with 1 Axes>"
      ]
     },
     "metadata": {
      "needs_background": "light"
     },
     "output_type": "display_data"
    }
   ],
   "source": [
    "import math\n",
    "\n",
    "\n",
    "def get_log(num):\n",
    "    return math.log(num)\n",
    "\n",
    "\n",
    "bidder_outcome_df = pd.DataFrame(df_bids_outcome.groupby(['bidder_id','outcome']).size().reset_index(name = \"bid_count\")).dropna()\n",
    "bidder_outcome_df['log'] = list(map(get_log, bidder_outcome_df['bid_count']))\n",
    "final_bidder_outcome_df = bidder_outcome_df[bidder_outcome_df['log'] != 0]\n",
    "final_bidder_outcome_df\n",
    "plt.figure(figsize=(10,6))\n",
    "a = sns.kdeplot(final_bidder_outcome_df.loc[final_bidder_outcome_df.outcome==0, 'log'], shade=True, label='human');\n",
    "sns.kdeplot(final_bidder_outcome_df.loc[final_bidder_outcome_df.outcome==1, 'log'], shade=True, ax=a, label='bot');\n",
    "plt.xlabel('Bid Counts',fontsize=20)\n",
    "plt.ylabel('Density',fontsize=20)\n",
    "plt.legend(('HUMAN','BOT'), loc='upper right',fontsize=15)\n",
    "plt.xticks(fontsize=14)\n",
    "plt.yticks(fontsize=14)\n",
    "plt.savefig('bid_count.png') \n"
   ]
  },
  {
   "cell_type": "markdown",
   "metadata": {},
   "source": [
    "__Log distribution plot of bid counts by auctions__"
   ]
  },
  {
   "cell_type": "code",
   "execution_count": 313,
   "metadata": {},
   "outputs": [
    {
     "data": {
      "image/png": "[encoded data removed]",
      "text/plain": [
       "<Figure size 720x432 with 1 Axes>"
      ]
     },
     "metadata": {
      "needs_background": "light"
     },
     "output_type": "display_data"
    }
   ],
   "source": [
    "import math\n",
    "\n",
    "def get_log(num):\n",
    "    return math.log(num)\n",
    "\n",
    "bid_count_auction = pd.DataFrame(df_bids_outcome.groupby(['auction','outcome']).size().reset_index(name = \"bid_count\")).dropna()\n",
    "\n",
    "bid_count_auction['log'] = list(map(get_log, bid_count_auction['bid_count']))\n",
    "final_bidder_outcome_df = bid_count_auction[bid_count_auction['log'] != 0]\n",
    "final_bidder_outcome_df\n",
    "plt.figure(figsize=(10, 6))\n",
    "a = sns.kdeplot(final_bidder_outcome_df.loc[final_bidder_outcome_df.outcome == 0, 'log'], shade=True, label='human');\n",
    "sns.kdeplot(final_bidder_outcome_df.loc[final_bidder_outcome_df.outcome == 1, 'log'], shade=True, ax=a, label='bot');\n",
    "plt.xlabel('Bid Counts by Auctions',fontsize=20)\n",
    "plt.ylabel('Density', fontsize=20)\n",
    "plt.xticks(fontsize=14)\n",
    "plt.yticks(fontsize=14)\n",
    "plt.legend(('HUMAN', 'BOT'), loc='upper right', fontsize=15)\n",
    "plt.savefig('bid_count_auction.png') "
   ]
  },
  {
   "cell_type": "markdown",
   "metadata": {},
   "source": [
    "__Log distribution plot of IP counts by auctions__"
   ]
  },
  {
   "cell_type": "code",
   "execution_count": 314,
   "metadata": {},
   "outputs": [
    {
     "data": {
      "image/png": "[encoded data removed]",
      "text/plain": [
       "<Figure size 720x432 with 1 Axes>"
      ]
     },
     "metadata": {
      "needs_background": "light"
     },
     "output_type": "display_data"
    }
   ],
   "source": [
    "ip_counts = pd.DataFrame(df_bids_outcome.groupby(['auction','outcome']).ip.nunique().reset_index(name = \"ip_counts\")).dropna()\n",
    "\n",
    "ip_counts['log'] = list(map(get_log, ip_counts['ip_counts']))\n",
    "final_bidder_outcome_df = ip_counts[ip_counts['log'] != 0]\n",
    "final_bidder_outcome_df\n",
    "plt.figure(figsize=(10, 6))\n",
    "a = sns.kdeplot(final_bidder_outcome_df.loc[final_bidder_outcome_df.outcome == 0, 'log'], shade=True, label='human');\n",
    "sns.kdeplot(final_bidder_outcome_df.loc[final_bidder_outcome_df.outcome == 1, 'log'], shade=True, ax=a, label='bot');\n",
    "plt.xlabel('IP Counts by Auctions', fontsize=20)\n",
    "plt.ylabel('Density', fontsize=20)\n",
    "plt.xticks(fontsize=14)\n",
    "plt.yticks(fontsize=14)\n",
    "plt.legend(('HUMAN', 'BOT'), loc='upper right', fontsize=15)\n",
    "plt.savefig('ip_count_auction.png') \n"
   ]
  },
  {
   "cell_type": "markdown",
   "metadata": {},
   "source": [
    "__Log distribution plot of merchandise counts by auctions__"
   ]
  },
  {
   "cell_type": "code",
   "execution_count": 315,
   "metadata": {},
   "outputs": [
    {
     "data": {
      "image/png": "[encoded data removed]",
      "text/plain": [
       "<Figure size 720x432 with 1 Axes>"
      ]
     },
     "metadata": {
      "needs_background": "light"
     },
     "output_type": "display_data"
    }
   ],
   "source": [
    "merc_counts = pd.DataFrame(df_bids_outcome.groupby(['auction','outcome']).merchandise.nunique().reset_index(name = \"merc_counts\")).dropna()\n",
    "\n",
    "merc_counts['log'] = list(map(get_log, merc_counts['merc_counts']))\n",
    "final_bidder_outcome_df = merc_counts[merc_counts['log'] != 0]\n",
    "final_bidder_outcome_df\n",
    "plt.figure(figsize=(10, 6))\n",
    "a = sns.kdeplot(final_bidder_outcome_df.loc[final_bidder_outcome_df.outcome == 0, 'log'], shade=True, label='human');\n",
    "sns.kdeplot(final_bidder_outcome_df.loc[final_bidder_outcome_df.outcome == 1, 'log'], shade=True, ax=a, label='bot');\n",
    "plt.xlabel('Merchandise Counts by Auctions', fontsize = 20)\n",
    "plt.ylabel('Density',fontsize=20)\n",
    "plt.xticks(fontsize=14)\n",
    "plt.yticks(fontsize=14)\n",
    "plt.legend(('HUMAN', 'BOT'), loc='upper right', fontsize=15)\n",
    "plt.savefig('merc_count_auction.png') "
   ]
  },
  {
   "cell_type": "markdown",
   "metadata": {},
   "source": [
    "__Merchandise where Human and Bots are bidding__"
   ]
  },
  {
   "cell_type": "code",
   "execution_count": 28,
   "metadata": {},
   "outputs": [],
   "source": [
    "merchandise = pd.DataFrame(df_bids_outcome.groupby(['outcome','merchandise']).size().reset_index(name = \"bid_count\")).dropna()\n",
    "merchandise.loc[merchandise.outcome == 0].sort_values(by='bid_count', ascending=False)\n",
    "plt.savefig('table')"
   ]
  },
  {
   "cell_type": "code",
   "execution_count": 29,
   "metadata": {},
   "outputs": [
    {
     "data": {
      "text/html": [
       "<div>\n",
       "<style scoped>\n",
       "    .dataframe tbody tr th:only-of-type {\n",
       "        vertical-align: middle;\n",
       "    }\n",
       "\n",
       "    .dataframe tbody tr th {\n",
       "        vertical-align: top;\n",
       "    }\n",
       "\n",
       "    .dataframe thead th {\n",
       "        text-align: right;\n",
       "    }\n",
       "</style>\n",
       "<table border=\"1\" class=\"dataframe\">\n",
       "  <thead>\n",
       "    <tr style=\"text-align: right;\">\n",
       "      <th></th>\n",
       "      <th>outcome</th>\n",
       "      <th>merchandise</th>\n",
       "      <th>bid_count</th>\n",
       "    </tr>\n",
       "  </thead>\n",
       "  <tbody>\n",
       "    <tr>\n",
       "      <th>16</th>\n",
       "      <td>1.0</td>\n",
       "      <td>sporting goods</td>\n",
       "      <td>230326</td>\n",
       "    </tr>\n",
       "    <tr>\n",
       "      <th>14</th>\n",
       "      <td>1.0</td>\n",
       "      <td>mobile</td>\n",
       "      <td>105138</td>\n",
       "    </tr>\n",
       "    <tr>\n",
       "      <th>13</th>\n",
       "      <td>1.0</td>\n",
       "      <td>jewelry</td>\n",
       "      <td>37101</td>\n",
       "    </tr>\n",
       "    <tr>\n",
       "      <th>12</th>\n",
       "      <td>1.0</td>\n",
       "      <td>home goods</td>\n",
       "      <td>18708</td>\n",
       "    </tr>\n",
       "    <tr>\n",
       "      <th>11</th>\n",
       "      <td>1.0</td>\n",
       "      <td>computers</td>\n",
       "      <td>11667</td>\n",
       "    </tr>\n",
       "    <tr>\n",
       "      <th>15</th>\n",
       "      <td>1.0</td>\n",
       "      <td>office equipment</td>\n",
       "      <td>7967</td>\n",
       "    </tr>\n",
       "    <tr>\n",
       "      <th>10</th>\n",
       "      <td>1.0</td>\n",
       "      <td>books and music</td>\n",
       "      <td>1509</td>\n",
       "    </tr>\n",
       "  </tbody>\n",
       "</table>\n",
       "</div>"
      ],
      "text/plain": [
       "    outcome       merchandise  bid_count\n",
       "16      1.0    sporting goods     230326\n",
       "14      1.0            mobile     105138\n",
       "13      1.0           jewelry      37101\n",
       "12      1.0        home goods      18708\n",
       "11      1.0         computers      11667\n",
       "15      1.0  office equipment       7967\n",
       "10      1.0   books and music       1509"
      ]
     },
     "execution_count": 29,
     "metadata": {},
     "output_type": "execute_result"
    }
   ],
   "source": [
    "merchandise.loc[merchandise.outcome == 1].sort_values(by='bid_count', ascending=False)"
   ]
  },
  {
   "cell_type": "code",
   "execution_count": 36,
   "metadata": {},
   "outputs": [
    {
     "data": {
      "text/html": [
       "<div>\n",
       "<style scoped>\n",
       "    .dataframe tbody tr th:only-of-type {\n",
       "        vertical-align: middle;\n",
       "    }\n",
       "\n",
       "    .dataframe tbody tr th {\n",
       "        vertical-align: top;\n",
       "    }\n",
       "\n",
       "    .dataframe thead th {\n",
       "        text-align: right;\n",
       "    }\n",
       "</style>\n",
       "<table border=\"1\" class=\"dataframe\">\n",
       "  <thead>\n",
       "    <tr style=\"text-align: right;\">\n",
       "      <th></th>\n",
       "      <th>bidder_id</th>\n",
       "      <th>bid_count</th>\n",
       "      <th>auction_count</th>\n",
       "      <th>merc_count</th>\n",
       "      <th>device_count</th>\n",
       "      <th>country_count</th>\n",
       "      <th>ip_count</th>\n",
       "      <th>url_count</th>\n",
       "      <th>average_distinct_country_per_auction</th>\n",
       "      <th>average_distinct_urls_per_auction</th>\n",
       "      <th>...</th>\n",
       "      <th>median_response_time</th>\n",
       "      <th>median_response_time_across_auction</th>\n",
       "      <th>num_auction</th>\n",
       "      <th>num_auction_won</th>\n",
       "      <th>percentage_win</th>\n",
       "      <th>avg_bids_auction</th>\n",
       "      <th>competitors</th>\n",
       "      <th>median_time_to_respond_competition</th>\n",
       "      <th>median_time_to_respond_self</th>\n",
       "      <th>outcome</th>\n",
       "    </tr>\n",
       "  </thead>\n",
       "  <tbody>\n",
       "    <tr>\n",
       "      <th>0</th>\n",
       "      <td>001068c415025a009fee375a12cff4fcnht8y</td>\n",
       "      <td>1</td>\n",
       "      <td>1</td>\n",
       "      <td>1</td>\n",
       "      <td>1</td>\n",
       "      <td>1</td>\n",
       "      <td>1</td>\n",
       "      <td>1</td>\n",
       "      <td>1.000</td>\n",
       "      <td>1.000</td>\n",
       "      <td>...</td>\n",
       "      <td>0</td>\n",
       "      <td>0</td>\n",
       "      <td>1</td>\n",
       "      <td>0</td>\n",
       "      <td>0.000000</td>\n",
       "      <td>0.000492</td>\n",
       "      <td>153.000000</td>\n",
       "      <td>3842105263</td>\n",
       "      <td>-1</td>\n",
       "      <td>0.0</td>\n",
       "    </tr>\n",
       "    <tr>\n",
       "      <th>1</th>\n",
       "      <td>0030a2dd87ad2733e0873062e4f83954mkj86</td>\n",
       "      <td>1</td>\n",
       "      <td>1</td>\n",
       "      <td>1</td>\n",
       "      <td>1</td>\n",
       "      <td>1</td>\n",
       "      <td>1</td>\n",
       "      <td>1</td>\n",
       "      <td>1.000</td>\n",
       "      <td>1.000</td>\n",
       "      <td>...</td>\n",
       "      <td>0</td>\n",
       "      <td>0</td>\n",
       "      <td>1</td>\n",
       "      <td>0</td>\n",
       "      <td>0.000000</td>\n",
       "      <td>0.000036</td>\n",
       "      <td>425.000000</td>\n",
       "      <td>736842106</td>\n",
       "      <td>-1</td>\n",
       "      <td>0.0</td>\n",
       "    </tr>\n",
       "    <tr>\n",
       "      <th>2</th>\n",
       "      <td>00a0517965f18610417ee784a05f494d4dw6e</td>\n",
       "      <td>141</td>\n",
       "      <td>74</td>\n",
       "      <td>1</td>\n",
       "      <td>67</td>\n",
       "      <td>16</td>\n",
       "      <td>103</td>\n",
       "      <td>84</td>\n",
       "      <td>1.000</td>\n",
       "      <td>1.757</td>\n",
       "      <td>...</td>\n",
       "      <td>515315789474</td>\n",
       "      <td>180473684210</td>\n",
       "      <td>74</td>\n",
       "      <td>0</td>\n",
       "      <td>0.000000</td>\n",
       "      <td>0.000262</td>\n",
       "      <td>232.000000</td>\n",
       "      <td>947368421</td>\n",
       "      <td>-1</td>\n",
       "      <td>0.0</td>\n",
       "    </tr>\n",
       "    <tr>\n",
       "      <th>3</th>\n",
       "      <td>00cc97158e6f4cb8eac3c0075918b7ffi5k8o</td>\n",
       "      <td>3</td>\n",
       "      <td>3</td>\n",
       "      <td>1</td>\n",
       "      <td>3</td>\n",
       "      <td>2</td>\n",
       "      <td>3</td>\n",
       "      <td>1</td>\n",
       "      <td>1.000</td>\n",
       "      <td>1.000</td>\n",
       "      <td>...</td>\n",
       "      <td>0</td>\n",
       "      <td>54052631579</td>\n",
       "      <td>3</td>\n",
       "      <td>0</td>\n",
       "      <td>0.000000</td>\n",
       "      <td>0.000159</td>\n",
       "      <td>376.000000</td>\n",
       "      <td>157894737</td>\n",
       "      <td>-1</td>\n",
       "      <td>0.0</td>\n",
       "    </tr>\n",
       "    <tr>\n",
       "      <th>4</th>\n",
       "      <td>01067975436d123f717ee5aba0dd4bbfa0937</td>\n",
       "      <td>543</td>\n",
       "      <td>17</td>\n",
       "      <td>1</td>\n",
       "      <td>165</td>\n",
       "      <td>71</td>\n",
       "      <td>398</td>\n",
       "      <td>4</td>\n",
       "      <td>4.882</td>\n",
       "      <td>1.118</td>\n",
       "      <td>...</td>\n",
       "      <td>15631578947</td>\n",
       "      <td>371789473684</td>\n",
       "      <td>17</td>\n",
       "      <td>1</td>\n",
       "      <td>0.058824</td>\n",
       "      <td>0.002174</td>\n",
       "      <td>142.882353</td>\n",
       "      <td>52631579</td>\n",
       "      <td>15000000000</td>\n",
       "      <td>0.0</td>\n",
       "    </tr>\n",
       "  </tbody>\n",
       "</table>\n",
       "<p>5 rows × 24 columns</p>\n",
       "</div>"
      ],
      "text/plain": [
       "                               bidder_id  bid_count  auction_count  \\\n",
       "0  001068c415025a009fee375a12cff4fcnht8y          1              1   \n",
       "1  0030a2dd87ad2733e0873062e4f83954mkj86          1              1   \n",
       "2  00a0517965f18610417ee784a05f494d4dw6e        141             74   \n",
       "3  00cc97158e6f4cb8eac3c0075918b7ffi5k8o          3              3   \n",
       "4  01067975436d123f717ee5aba0dd4bbfa0937        543             17   \n",
       "\n",
       "   merc_count  device_count  country_count  ip_count  url_count  \\\n",
       "0           1             1              1         1          1   \n",
       "1           1             1              1         1          1   \n",
       "2           1            67             16       103         84   \n",
       "3           1             3              2         3          1   \n",
       "4           1           165             71       398          4   \n",
       "\n",
       "   average_distinct_country_per_auction  average_distinct_urls_per_auction  \\\n",
       "0                                 1.000                              1.000   \n",
       "1                                 1.000                              1.000   \n",
       "2                                 1.000                              1.757   \n",
       "3                                 1.000                              1.000   \n",
       "4                                 4.882                              1.118   \n",
       "\n",
       "   ...  median_response_time  median_response_time_across_auction  \\\n",
       "0  ...                     0                                    0   \n",
       "1  ...                     0                                    0   \n",
       "2  ...          515315789474                         180473684210   \n",
       "3  ...                     0                          54052631579   \n",
       "4  ...           15631578947                         371789473684   \n",
       "\n",
       "   num_auction  num_auction_won  percentage_win  avg_bids_auction  \\\n",
       "0            1                0        0.000000          0.000492   \n",
       "1            1                0        0.000000          0.000036   \n",
       "2           74                0        0.000000          0.000262   \n",
       "3            3                0        0.000000          0.000159   \n",
       "4           17                1        0.058824          0.002174   \n",
       "\n",
       "   competitors  median_time_to_respond_competition  \\\n",
       "0   153.000000                          3842105263   \n",
       "1   425.000000                           736842106   \n",
       "2   232.000000                           947368421   \n",
       "3   376.000000                           157894737   \n",
       "4   142.882353                            52631579   \n",
       "\n",
       "   median_time_to_respond_self  outcome  \n",
       "0                           -1      0.0  \n",
       "1                           -1      0.0  \n",
       "2                           -1      0.0  \n",
       "3                           -1      0.0  \n",
       "4                  15000000000      0.0  \n",
       "\n",
       "[5 rows x 24 columns]"
      ]
     },
     "execution_count": 36,
     "metadata": {},
     "output_type": "execute_result"
    }
   ],
   "source": [
    "csv.head()"
   ]
  },
  {
   "cell_type": "markdown",
   "metadata": {},
   "source": [
    "## View class balance"
   ]
  },
  {
   "cell_type": "code",
   "execution_count": 38,
   "metadata": {},
   "outputs": [
    {
     "data": {
      "text/plain": [
       "0.0    1881\n",
       "1.0     103\n",
       "Name: outcome, dtype: int64"
      ]
     },
     "execution_count": 38,
     "metadata": {},
     "output_type": "execute_result"
    }
   ],
   "source": [
    "csv['outcome'].value_counts()"
   ]
  },
  {
   "cell_type": "code",
   "execution_count": 39,
   "metadata": {},
   "outputs": [
    {
     "data": {
      "image/png": "[encoded data removed]",
      "text/plain": [
       "<Figure size 432x288 with 1 Axes>"
      ]
     },
     "metadata": {
      "needs_background": "light"
     },
     "output_type": "display_data"
    }
   ],
   "source": [
    "csv['outcome'].value_counts().plot(kind='bar', color=['b', 'g'], title='Class Count', rot=0)\n",
    "plt.savefig('count') "
   ]
  },
  {
   "cell_type": "markdown",
   "metadata": {},
   "source": [
    "# --------------Adding more features from Leoreja (Stanford) repo----------------------------"
   ]
  },
  {
   "cell_type": "code",
   "execution_count": 235,
   "metadata": {},
   "outputs": [],
   "source": [
    "csv = pd.read_csv('train_data_withfeatures1/saved.csv')"
   ]
  },
  {
   "cell_type": "code",
   "execution_count": 79,
   "metadata": {},
   "outputs": [],
   "source": [
    "bids = pd.read_csv('bids_gc.csv')"
   ]
  },
  {
   "cell_type": "code",
   "execution_count": 80,
   "metadata": {},
   "outputs": [],
   "source": [
    "bids_g_bidder = bids.groupby('bidder_id')\n",
    "bids_g_auction = bids.groupby('auction')"
   ]
  },
  {
   "cell_type": "code",
   "execution_count": 81,
   "metadata": {},
   "outputs": [
    {
     "name": "stdout",
     "output_type": "stream",
     "text": [
      "<class 'pandas.core.frame.DataFrame'>\n",
      "Index: 6614 entries, 001068c415025a009fee375a12cff4fcnht8y to fff2c070d8200e0a09150bd81452ce29ngcnv\n",
      "Data columns (total 6 columns):\n",
      " #   Column        Non-Null Count  Dtype  \n",
      "---  ------        --------------  -----  \n",
      " 0   tdiff_min     6614 non-null   float64\n",
      " 1   tdiff_max     6614 non-null   float64\n",
      " 2   tdiff_mean    6614 non-null   float64\n",
      " 3   tdiff_std     6614 non-null   float64\n",
      " 4   tdiff_median  6614 non-null   float64\n",
      " 5   tdiff_zeros   6614 non-null   float64\n",
      "dtypes: float64(6)\n",
      "memory usage: 361.7+ KB\n",
      "None\n",
      "                                          tdiff_min     tdiff_max  \\\n",
      "bidder_id                                                           \n",
      "001068c415025a009fee375a12cff4fcnht8y  0.000000e+00  0.000000e+00   \n",
      "002d229ffb247009810828f648afc2ef593rb  1.052632e+08  1.052632e+08   \n",
      "0030a2dd87ad2733e0873062e4f83954mkj86  0.000000e+00  0.000000e+00   \n",
      "003180b29c6a5f8f1d84a6b7b6f7be57tjj1o  5.369263e+12  6.058642e+13   \n",
      "00486a11dff552c4bd7696265724ff81yeo9v  3.684211e+08  5.094174e+13   \n",
      "0051aef3fdeacdadba664b9b3b07e04e4coc6  5.263158e+07  3.792368e+12   \n",
      "0053b78cde37c4384a20d2da9aa4272aym4pb  0.000000e+00  5.002753e+13   \n",
      "0061edfc5b07ff3d70d693883a38d370oy4fs  1.578947e+08  1.112000e+12   \n",
      "00862324eb508ca5202b6d4e5f1a80fc3t3lp  5.263158e+08  1.210526e+09   \n",
      "009479273c288b1dd096dc3087653499lrx3c  0.000000e+00  0.000000e+00   \n",
      "\n",
      "                                         tdiff_mean     tdiff_std  \\\n",
      "bidder_id                                                           \n",
      "001068c415025a009fee375a12cff4fcnht8y  0.000000e+00  0.000000e+00   \n",
      "002d229ffb247009810828f648afc2ef593rb  1.052632e+08  0.000000e+00   \n",
      "0030a2dd87ad2733e0873062e4f83954mkj86  0.000000e+00  0.000000e+00   \n",
      "003180b29c6a5f8f1d84a6b7b6f7be57tjj1o  3.297784e+13  2.760858e+13   \n",
      "00486a11dff552c4bd7696265724ff81yeo9v  4.018413e+12  1.122958e+13   \n",
      "0051aef3fdeacdadba664b9b3b07e04e4coc6  1.635106e+11  5.727513e+11   \n",
      "0053b78cde37c4384a20d2da9aa4272aym4pb  7.065316e+09  4.784175e+11   \n",
      "0061edfc5b07ff3d70d693883a38d370oy4fs  1.022327e+11  1.621352e+11   \n",
      "00862324eb508ca5202b6d4e5f1a80fc3t3lp  7.631579e+08  2.696566e+08   \n",
      "009479273c288b1dd096dc3087653499lrx3c  0.000000e+00  0.000000e+00   \n",
      "\n",
      "                                       tdiff_median  tdiff_zeros  \n",
      "bidder_id                                                         \n",
      "001068c415025a009fee375a12cff4fcnht8y  0.000000e+00          0.0  \n",
      "002d229ffb247009810828f648afc2ef593rb  1.052632e+08          0.0  \n",
      "0030a2dd87ad2733e0873062e4f83954mkj86  0.000000e+00          0.0  \n",
      "003180b29c6a5f8f1d84a6b7b6f7be57tjj1o  3.297784e+13          0.0  \n",
      "00486a11dff552c4bd7696265724ff81yeo9v  9.177368e+11          0.0  \n",
      "0051aef3fdeacdadba664b9b3b07e04e4coc6  2.736842e+09          0.0  \n",
      "0053b78cde37c4384a20d2da9aa4272aym4pb  3.684211e+08        728.0  \n",
      "0061edfc5b07ff3d70d693883a38d370oy4fs  4.984211e+10          0.0  \n",
      "00862324eb508ca5202b6d4e5f1a80fc3t3lp  6.578947e+08          0.0  \n",
      "009479273c288b1dd096dc3087653499lrx3c  0.000000e+00          0.0  \n"
     ]
    }
   ],
   "source": [
    "def generate_time_features_per_bidder(group):\n",
    "    sorted_group = group.sort_values(by=['time'])\n",
    "    \n",
    "    time_diff = np.ediff1d(sorted_group['time'])\n",
    "    if len(time_diff) == 0:\n",
    "        features = {'tdiff_min':0, \n",
    "                    'tdiff_max':0,\n",
    "                    'tdiff_mean':0,\n",
    "                    'tdiff_std':0,\n",
    "                    'tdiff_median':0,\n",
    "                    'tdiff_zeros':0}\n",
    "    else:\n",
    "        features = {'tdiff_min':np.min(time_diff), \n",
    "                    'tdiff_max':np.max(time_diff),\n",
    "                    'tdiff_mean':np.mean(time_diff),\n",
    "                    'tdiff_std':np.std(time_diff),\n",
    "                    'tdiff_median':np.median(time_diff),\n",
    "                    'tdiff_zeros':time_diff.shape[0]-np.count_nonzero(time_diff)}\n",
    "    \n",
    "    return pd.Series(features)\n",
    "    \n",
    "time_feat_per_bidder = bids_g_bidder.apply(generate_time_features_per_bidder)\n",
    "print(time_feat_per_bidder.info())\n",
    "print(time_feat_per_bidder.head(10))\n",
    "#time_feat_per_bidder.to_csv('tdiff_feat_per_bidder.csv')"
   ]
  },
  {
   "cell_type": "code",
   "execution_count": 82,
   "metadata": {},
   "outputs": [
    {
     "name": "stdout",
     "output_type": "stream",
     "text": [
      "<class 'pandas.core.frame.DataFrame'>\n",
      "Index: 6614 entries, 001068c415025a009fee375a12cff4fcnht8y to fff2c070d8200e0a09150bd81452ce29ngcnv\n",
      "Data columns (total 5 columns):\n",
      " #   Column        Non-Null Count  Dtype  \n",
      "---  ------        --------------  -----  \n",
      " 0   price_min     6614 non-null   float64\n",
      " 1   price_max     6614 non-null   float64\n",
      " 2   price_mean    6614 non-null   float64\n",
      " 3   price_std     6614 non-null   float64\n",
      " 4   price_median  6614 non-null   float64\n",
      "dtypes: float64(5)\n",
      "memory usage: 310.0+ KB\n",
      "None\n",
      "                                          price_min     price_max  \\\n",
      "bidder_id                                                           \n",
      "001068c415025a009fee375a12cff4fcnht8y  9.706345e+15  9.706345e+15   \n",
      "002d229ffb247009810828f648afc2ef593rb  9.766744e+15  9.766744e+15   \n",
      "0030a2dd87ad2733e0873062e4f83954mkj86  9.704554e+15  9.704554e+15   \n",
      "003180b29c6a5f8f1d84a6b7b6f7be57tjj1o  9.640019e+15  9.705974e+15   \n",
      "00486a11dff552c4bd7696265724ff81yeo9v  9.632637e+15  9.708986e+15   \n",
      "0051aef3fdeacdadba664b9b3b07e04e4coc6  9.759271e+15  9.770227e+15   \n",
      "0053b78cde37c4384a20d2da9aa4272aym4pb  9.631939e+15  9.709219e+15   \n",
      "0061edfc5b07ff3d70d693883a38d370oy4fs  9.759269e+15  9.772866e+15   \n",
      "00862324eb508ca5202b6d4e5f1a80fc3t3lp  9.636539e+15  9.636542e+15   \n",
      "009479273c288b1dd096dc3087653499lrx3c  9.634283e+15  9.634283e+15   \n",
      "\n",
      "                                         price_mean     price_std  \\\n",
      "bidder_id                                                           \n",
      "001068c415025a009fee375a12cff4fcnht8y  9.706345e+15  0.000000e+00   \n",
      "002d229ffb247009810828f648afc2ef593rb  9.766744e+15  5.263158e+07   \n",
      "0030a2dd87ad2733e0873062e4f83954mkj86  9.704554e+15  0.000000e+00   \n",
      "003180b29c6a5f8f1d84a6b7b6f7be57tjj1o  9.682199e+15  2.990670e+13   \n",
      "00486a11dff552c4bd7696265724ff81yeo9v  9.654226e+15  2.688776e+13   \n",
      "0051aef3fdeacdadba664b9b3b07e04e4coc6  9.760903e+15  2.115384e+12   \n",
      "0053b78cde37c4384a20d2da9aa4272aym4pb  9.667505e+15  3.239671e+13   \n",
      "0061edfc5b07ff3d70d693883a38d370oy4fs  9.765379e+15  4.110373e+12   \n",
      "00862324eb508ca5202b6d4e5f1a80fc3t3lp  9.636541e+15  1.032760e+09   \n",
      "009479273c288b1dd096dc3087653499lrx3c  9.634283e+15  0.000000e+00   \n",
      "\n",
      "                                       price_median  \n",
      "bidder_id                                            \n",
      "001068c415025a009fee375a12cff4fcnht8y  9.706345e+15  \n",
      "002d229ffb247009810828f648afc2ef593rb  9.766744e+15  \n",
      "0030a2dd87ad2733e0873062e4f83954mkj86  9.704554e+15  \n",
      "003180b29c6a5f8f1d84a6b7b6f7be57tjj1o  9.700605e+15  \n",
      "00486a11dff552c4bd7696265724ff81yeo9v  9.641762e+15  \n",
      "0051aef3fdeacdadba664b9b3b07e04e4coc6  9.760942e+15  \n",
      "0053b78cde37c4384a20d2da9aa4272aym4pb  9.642233e+15  \n",
      "0061edfc5b07ff3d70d693883a38d370oy4fs  9.764307e+15  \n",
      "00862324eb508ca5202b6d4e5f1a80fc3t3lp  9.636541e+15  \n",
      "009479273c288b1dd096dc3087653499lrx3c  9.634283e+15  \n"
     ]
    }
   ],
   "source": [
    "def generate_price_features_per_bidder(group):\n",
    "    features = {'price_min':np.min(group['time']), \n",
    "                'price_max':np.max(group['time']),\n",
    "                'price_mean':np.mean(group['time']),\n",
    "                'price_std':np.std(group['time']),\n",
    "                'price_median':np.median(group['time'])}\n",
    "    return pd.Series(features)\n",
    "    \n",
    "price_feat_per_bidder = bids_g_bidder.apply(generate_price_features_per_bidder)\n",
    "print(price_feat_per_bidder.info())\n",
    "print(price_feat_per_bidder.head(10))"
   ]
  },
  {
   "cell_type": "code",
   "execution_count": 83,
   "metadata": {},
   "outputs": [
    {
     "name": "stdout",
     "output_type": "stream",
     "text": [
      "<class 'pandas.core.frame.DataFrame'>\n",
      "RangeIndex: 6610 entries, 0 to 6609\n",
      "Data columns (total 6 columns):\n",
      " #   Column           Non-Null Count  Dtype  \n",
      "---  ------           --------------  -----  \n",
      " 0   bidder_id        6610 non-null   object \n",
      " 1   response_min     6610 non-null   int64  \n",
      " 2   response_max     6610 non-null   int64  \n",
      " 3   response_mean    6610 non-null   float64\n",
      " 4   response_std     6610 non-null   float64\n",
      " 5   response_median  6610 non-null   float64\n",
      "dtypes: float64(3), int64(2), object(1)\n",
      "memory usage: 310.0+ KB\n",
      "None\n",
      "                               bidder_id  response_min    response_max  \\\n",
      "0  a939f51234ad2c44eb9ccc84e754f41foiv7g             0  71291894736842   \n",
      "1  92af1e40713e077ef87f5352fb56772fjnzm7             0  72363263157895   \n",
      "2  9655ccc7c0c193f1549475f02c54dce45kjw7             0  71655210526315   \n",
      "3  84c4b58a1491da3a30710bcdf61f87054xfq6             0  73455578947368   \n",
      "4  9a81137ad31d7253759cdb9ae8e44227fw8x9             0    480473684210   \n",
      "5  31a73539583230480189cc651fbbb1fagz0q1             0  66470315789473   \n",
      "6  2d38a6af2ce96c1446f900aa4756b8975y9k3             0  60509578947369   \n",
      "7  366c1eaa5b38b2e69856048ff756fffek84q6             0  52729052631579   \n",
      "8  5dda8ade6b5d4065f3119a381516c227yoz8y             0  67728105263158   \n",
      "9  1276a5badf1ac37c58ca2fada7bb972dogjzq             0   2724000000000   \n",
      "\n",
      "   response_mean  response_std  response_median  \n",
      "0   3.635576e+11  3.997059e+12     9.894737e+09  \n",
      "1   3.421696e+11  3.949153e+12     1.021053e+10  \n",
      "2   2.567888e+10  9.220674e+11     2.105263e+08  \n",
      "3   4.183796e+11  4.317069e+12     9.526316e+09  \n",
      "4   5.694817e+09  2.852963e+10     8.947368e+08  \n",
      "5   1.092628e+11  1.785572e+12     4.315789e+09  \n",
      "6   6.555943e+11  5.487318e+12     1.013158e+10  \n",
      "7   4.168840e+10  1.150904e+12     4.210526e+08  \n",
      "8   3.271985e+11  3.666840e+12     7.578947e+09  \n",
      "9   9.761942e+09  7.490678e+10     1.105263e+09  \n"
     ]
    }
   ],
   "source": [
    "from collections import defaultdict\n",
    "time_response = defaultdict(list)\n",
    "\n",
    "for auction in bids_g_auction:\n",
    "    auction_group = auction[1].sort_values(by=['time'])\n",
    "    last_row = None\n",
    "    for i, row in auction_group.iterrows():\n",
    "        if last_row is None:\n",
    "            last_row = row\n",
    "            continue\n",
    "#         try:\n",
    "#             assert row['time']-last_row['time'] >= 0\n",
    "#         except:\n",
    "#             print row['time'], last_row['time']\n",
    "#             print auction_group['time']\n",
    "#             break\n",
    "        time_response[row['bidder_id']].append(row['time']-last_row['time'])\n",
    "        last_row = row\n",
    "\n",
    "time_response_df = []\n",
    "for bidder_id in time_response.keys():\n",
    "    time_response_df.append({'bidder_id':bidder_id,\n",
    "                             'response_min': np.min(time_response[bidder_id]),\n",
    "                             'response_max': np.max(time_response[bidder_id]),\n",
    "                             'response_mean': np.mean(time_response[bidder_id]),\n",
    "                             'response_std': np.std(time_response[bidder_id]),\n",
    "                             'response_median': np.median(time_response[bidder_id])})\n",
    "    \n",
    "time_response_df = pd.DataFrame(time_response_df)\n",
    "time_response_df.set_index('bidder_id')\n",
    "print(time_response_df.info())\n",
    "print(time_response_df.head(10))"
   ]
  },
  {
   "cell_type": "code",
   "execution_count": 84,
   "metadata": {},
   "outputs": [
    {
     "name": "stdout",
     "output_type": "stream",
     "text": [
      "<class 'pandas.core.frame.DataFrame'>\n",
      "Index: 6614 entries, 001068c415025a009fee375a12cff4fcnht8y to fff2c070d8200e0a09150bd81452ce29ngcnv\n",
      "Data columns (total 1 columns):\n",
      " #   Column  Non-Null Count  Dtype  \n",
      "---  ------  --------------  -----  \n",
      " 0   0       6614 non-null   float64\n",
      "dtypes: float64(1)\n",
      "memory usage: 103.3+ KB\n",
      "None\n",
      "                                                  0\n",
      "bidder_id                                          \n",
      "001068c415025a009fee375a12cff4fcnht8y  0.000000e+00\n",
      "002d229ffb247009810828f648afc2ef593rb  0.000000e+00\n",
      "0030a2dd87ad2733e0873062e4f83954mkj86  0.000000e+00\n",
      "003180b29c6a5f8f1d84a6b7b6f7be57tjj1o  3.297784e+13\n",
      "00486a11dff552c4bd7696265724ff81yeo9v  1.427947e+12\n",
      "0051aef3fdeacdadba664b9b3b07e04e4coc6  1.550263e+11\n",
      "0053b78cde37c4384a20d2da9aa4272aym4pb  4.210526e+08\n",
      "0061edfc5b07ff3d70d693883a38d370oy4fs  6.468421e+10\n",
      "00862324eb508ca5202b6d4e5f1a80fc3t3lp  0.000000e+00\n",
      "009479273c288b1dd096dc3087653499lrx3c  0.000000e+00\n"
     ]
    }
   ],
   "source": [
    "def generate_tdiff_change_ip_features_per_bidder(group):\n",
    "    group = group.sort_values(by=['time'])\n",
    "    change_ip_rows = group.loc[group['ip'].shift() != group['ip']]\n",
    "    change_time = np.ediff1d(change_ip_rows['time'])\n",
    "    if len(change_time) == 0:\n",
    "        res = 0\n",
    "    else:\n",
    "        res = np.median(change_time)\n",
    "    return pd.Series(res)\n",
    "    \n",
    "tdiff_change_ip_feat_per_bidder = bids_g_bidder.apply(generate_tdiff_change_ip_features_per_bidder)\n",
    "print(tdiff_change_ip_feat_per_bidder.info())\n",
    "print(tdiff_change_ip_feat_per_bidder.head(10))"
   ]
  },
  {
   "cell_type": "code",
   "execution_count": null,
   "metadata": {},
   "outputs": [],
   "source": []
  },
  {
   "cell_type": "code",
   "execution_count": 85,
   "metadata": {},
   "outputs": [
    {
     "name": "stdout",
     "output_type": "stream",
     "text": [
      "<class 'pandas.core.frame.DataFrame'>\n",
      "Index: 6614 entries, 001068c415025a009fee375a12cff4fcnht8y to fff2c070d8200e0a09150bd81452ce29ngcnv\n",
      "Data columns (total 2 columns):\n",
      " #   Column       Non-Null Count  Dtype  \n",
      "---  ------       --------------  -----  \n",
      " 0   ip_entropy   6614 non-null   float64\n",
      " 1   url_entropy  6614 non-null   float64\n",
      "dtypes: float64(2)\n",
      "memory usage: 155.0+ KB\n",
      "None\n",
      "                                         ip_entropy   url_entropy\n",
      "bidder_id                                                        \n",
      "001068c415025a009fee375a12cff4fcnht8y      0.000000      0.000000\n",
      "002d229ffb247009810828f648afc2ef593rb      0.000000      0.000000\n",
      "0030a2dd87ad2733e0873062e4f83954mkj86      0.000000      0.000000\n",
      "003180b29c6a5f8f1d84a6b7b6f7be57tjj1o      0.693147      0.693147\n",
      "00486a11dff552c4bd7696265724ff81yeo9v     34.552392     23.542324\n",
      "0051aef3fdeacdadba664b9b3b07e04e4coc6    108.281262     38.823934\n",
      "0053b78cde37c4384a20d2da9aa4272aym4pb  55626.954427  56950.537277\n",
      "0061edfc5b07ff3d70d693883a38d370oy4fs    450.472687    303.746276\n",
      "00862324eb508ca5202b6d4e5f1a80fc3t3lp      0.000000      0.000000\n",
      "009479273c288b1dd096dc3087653499lrx3c      0.000000      0.000000\n"
     ]
    }
   ],
   "source": [
    "import math\n",
    "# one_day = 4547368124071.8799\n",
    "# startt = 9631916820392676.0\n",
    "# delta = 2.16e10\n",
    "# cutoff = 1.5e8 #cutoff for \"small\" time scales\n",
    "\n",
    "# How to calculate time units\n",
    "# start and end times for each three-day data segment\n",
    "# -9631916842105263 + 9645558894736842 = 13642052631579  #week 0\n",
    "# -9695580000000000 + 9709222052631578 = 13642052631578  #week 2\n",
    "# -9759243157894736 + 9772885210526315 = 13642052631579  #week 4\n",
    "# gap between end week 0, start week 2: 50021105263158\n",
    "# gap between end week 2, start week 4: 50021105263158\n",
    "\n",
    "def compute_entropy(array):\n",
    "    entropy = np.sum(np.log(np.arange(1,array.shape[0])))\n",
    "    for _, value in array.value_counts().iteritems():\n",
    "        entropy -= np.sum(np.log(np.arange(1,value)))\n",
    "    return entropy\n",
    "def generate_entropy_features_per_bidder(group):\n",
    "    feature = dict()\n",
    "    feature['ip_entropy'] = compute_entropy(group['ip'])\n",
    "    feature['url_entropy'] = compute_entropy(group['url'])\n",
    "    return pd.Series(feature)\n",
    "\n",
    "entropy_feat = bids_g_bidder.apply(generate_entropy_features_per_bidder)\n",
    "print(entropy_feat.info())\n",
    "print(entropy_feat.head(10))"
   ]
  },
  {
   "cell_type": "code",
   "execution_count": 152,
   "metadata": {},
   "outputs": [],
   "source": [
    "csv.sort_values(by=['bidder_id'], inplace = True)"
   ]
  },
  {
   "cell_type": "code",
   "execution_count": 87,
   "metadata": {},
   "outputs": [
    {
     "data": {
      "text/html": [
       "<div>\n",
       "<style scoped>\n",
       "    .dataframe tbody tr th:only-of-type {\n",
       "        vertical-align: middle;\n",
       "    }\n",
       "\n",
       "    .dataframe tbody tr th {\n",
       "        vertical-align: top;\n",
       "    }\n",
       "\n",
       "    .dataframe thead th {\n",
       "        text-align: right;\n",
       "    }\n",
       "</style>\n",
       "<table border=\"1\" class=\"dataframe\">\n",
       "  <thead>\n",
       "    <tr style=\"text-align: right;\">\n",
       "      <th></th>\n",
       "      <th>0</th>\n",
       "    </tr>\n",
       "    <tr>\n",
       "      <th>bidder_id</th>\n",
       "      <th></th>\n",
       "    </tr>\n",
       "  </thead>\n",
       "  <tbody>\n",
       "    <tr>\n",
       "      <th>001068c415025a009fee375a12cff4fcnht8y</th>\n",
       "      <td>0.000000e+00</td>\n",
       "    </tr>\n",
       "    <tr>\n",
       "      <th>002d229ffb247009810828f648afc2ef593rb</th>\n",
       "      <td>0.000000e+00</td>\n",
       "    </tr>\n",
       "    <tr>\n",
       "      <th>0030a2dd87ad2733e0873062e4f83954mkj86</th>\n",
       "      <td>0.000000e+00</td>\n",
       "    </tr>\n",
       "    <tr>\n",
       "      <th>003180b29c6a5f8f1d84a6b7b6f7be57tjj1o</th>\n",
       "      <td>3.297784e+13</td>\n",
       "    </tr>\n",
       "    <tr>\n",
       "      <th>00486a11dff552c4bd7696265724ff81yeo9v</th>\n",
       "      <td>1.427947e+12</td>\n",
       "    </tr>\n",
       "  </tbody>\n",
       "</table>\n",
       "</div>"
      ],
      "text/plain": [
       "                                                  0\n",
       "bidder_id                                          \n",
       "001068c415025a009fee375a12cff4fcnht8y  0.000000e+00\n",
       "002d229ffb247009810828f648afc2ef593rb  0.000000e+00\n",
       "0030a2dd87ad2733e0873062e4f83954mkj86  0.000000e+00\n",
       "003180b29c6a5f8f1d84a6b7b6f7be57tjj1o  3.297784e+13\n",
       "00486a11dff552c4bd7696265724ff81yeo9v  1.427947e+12"
      ]
     },
     "execution_count": 87,
     "metadata": {},
     "output_type": "execute_result"
    }
   ],
   "source": [
    "tdiff_change_ip_feat_per_bidder.head()"
   ]
  },
  {
   "cell_type": "code",
   "execution_count": 153,
   "metadata": {},
   "outputs": [],
   "source": [
    "time_feat_per_bidder = time_feat_per_bidder.reset_index().sort_values(by=['bidder_id'])"
   ]
  },
  {
   "cell_type": "code",
   "execution_count": 154,
   "metadata": {},
   "outputs": [],
   "source": [
    "price_feat_per_bidder = price_feat_per_bidder.reset_index().sort_values(by=['bidder_id'])"
   ]
  },
  {
   "cell_type": "code",
   "execution_count": 155,
   "metadata": {},
   "outputs": [],
   "source": [
    "time_response_df = time_response_df.reset_index().sort_values(by=['bidder_id'])"
   ]
  },
  {
   "cell_type": "code",
   "execution_count": 63,
   "metadata": {},
   "outputs": [],
   "source": [
    "# tdiff_change_ip_feat_per_bidder = tdiff_change_ip_feat_per_bidder.reset_index().sort_values(by=['bidder_id'])"
   ]
  },
  {
   "cell_type": "code",
   "execution_count": 135,
   "metadata": {},
   "outputs": [],
   "source": [
    "# tdiff_change_ip_feat_per_bidder.rename(columns = {0:'ip_change'}, inplace = True)"
   ]
  },
  {
   "cell_type": "code",
   "execution_count": 156,
   "metadata": {},
   "outputs": [],
   "source": [
    "entropy_feat = entropy_feat.reset_index().sort_values(by=['bidder_id'])"
   ]
  },
  {
   "cell_type": "code",
   "execution_count": null,
   "metadata": {},
   "outputs": [],
   "source": [
    "----------------------------------------------------------------------"
   ]
  },
  {
   "cell_type": "code",
   "execution_count": 205,
   "metadata": {},
   "outputs": [],
   "source": [
    "df = csv.copy()"
   ]
  },
  {
   "cell_type": "code",
   "execution_count": 246,
   "metadata": {},
   "outputs": [],
   "source": [
    "df = pd.merge(csv, entropy_feat, on='bidder_id', how='left')"
   ]
  },
  {
   "cell_type": "code",
   "execution_count": 138,
   "metadata": {},
   "outputs": [],
   "source": [
    "# df = pd.merge(df, tdiff_change_ip_feat_per_bidder, on='bidder_id', how='left')"
   ]
  },
  {
   "cell_type": "code",
   "execution_count": 247,
   "metadata": {},
   "outputs": [],
   "source": [
    "time_response_df.drop(columns = ['index'], inplace = True)"
   ]
  },
  {
   "cell_type": "code",
   "execution_count": 248,
   "metadata": {},
   "outputs": [],
   "source": [
    "df = pd.merge(df, time_response_df, on='bidder_id', how='left')"
   ]
  },
  {
   "cell_type": "code",
   "execution_count": 106,
   "metadata": {},
   "outputs": [
    {
     "name": "stdout",
     "output_type": "stream",
     "text": [
      "ca391c857d7aa75a72e2d7c3133e0d6ay9pil\n"
     ]
    }
   ],
   "source": [
    "for ele in csv['bidder_id']:\n",
    "    if ele not in time_response_df['bidder_id'].to_list():\n",
    "        print(ele)"
   ]
  },
  {
   "cell_type": "code",
   "execution_count": 210,
   "metadata": {},
   "outputs": [
    {
     "data": {
      "text/plain": [
       "bid_count                               0\n",
       "auction_count                           0\n",
       "merc_count                              0\n",
       "device_count                            0\n",
       "country_count                           0\n",
       "ip_count                                0\n",
       "url_count                               0\n",
       "average_distinct_country_per_auction    0\n",
       "average_distinct_urls_per_auction       0\n",
       "average_distinct_ip_per_auction         0\n",
       "average_distinct_dev_per_auction        0\n",
       "average_distinct_merc_per_auction       0\n",
       "average_bids_per_auction                0\n",
       "median_response_time                    0\n",
       "median_response_time_across_auction     0\n",
       "num_auction                             0\n",
       "num_auction_won                         0\n",
       "percentage_win                          0\n",
       "avg_bids_auction                        0\n",
       "competitors                             0\n",
       "median_time_to_respond_competition      0\n",
       "outcome                                 0\n",
       "ip_entropy                              0\n",
       "url_entropy                             0\n",
       "response_min                            0\n",
       "response_max                            0\n",
       "response_mean                           0\n",
       "response_std                            0\n",
       "response_median                         0\n",
       "tdiff_min                               0\n",
       "tdiff_max                               0\n",
       "tdiff_mean                              0\n",
       "tdiff_std                               0\n",
       "tdiff_median                            0\n",
       "tdiff_zeros                             0\n",
       "dtype: int64"
      ]
     },
     "execution_count": 210,
     "metadata": {},
     "output_type": "execute_result"
    }
   ],
   "source": [
    "df.isnull().sum()"
   ]
  },
  {
   "cell_type": "code",
   "execution_count": 249,
   "metadata": {},
   "outputs": [],
   "source": [
    "df = pd.merge(df, price_feat_per_bidder, on='bidder_id', how='left')"
   ]
  },
  {
   "cell_type": "code",
   "execution_count": 127,
   "metadata": {},
   "outputs": [
    {
     "data": {
      "text/html": [
       "<div>\n",
       "<style scoped>\n",
       "    .dataframe tbody tr th:only-of-type {\n",
       "        vertical-align: middle;\n",
       "    }\n",
       "\n",
       "    .dataframe tbody tr th {\n",
       "        vertical-align: top;\n",
       "    }\n",
       "\n",
       "    .dataframe thead th {\n",
       "        text-align: right;\n",
       "    }\n",
       "</style>\n",
       "<table border=\"1\" class=\"dataframe\">\n",
       "  <thead>\n",
       "    <tr style=\"text-align: right;\">\n",
       "      <th></th>\n",
       "      <th>bidder_id</th>\n",
       "      <th>tdiff_min</th>\n",
       "      <th>tdiff_max</th>\n",
       "      <th>tdiff_mean</th>\n",
       "      <th>tdiff_std</th>\n",
       "      <th>tdiff_median</th>\n",
       "      <th>tdiff_zeros</th>\n",
       "    </tr>\n",
       "  </thead>\n",
       "  <tbody>\n",
       "    <tr>\n",
       "      <th>0</th>\n",
       "      <td>001068c415025a009fee375a12cff4fcnht8y</td>\n",
       "      <td>0.000000e+00</td>\n",
       "      <td>0.000000e+00</td>\n",
       "      <td>0.000000e+00</td>\n",
       "      <td>0.000000e+00</td>\n",
       "      <td>0.000000e+00</td>\n",
       "      <td>0.0</td>\n",
       "    </tr>\n",
       "    <tr>\n",
       "      <th>1</th>\n",
       "      <td>002d229ffb247009810828f648afc2ef593rb</td>\n",
       "      <td>1.052632e+08</td>\n",
       "      <td>1.052632e+08</td>\n",
       "      <td>1.052632e+08</td>\n",
       "      <td>0.000000e+00</td>\n",
       "      <td>1.052632e+08</td>\n",
       "      <td>0.0</td>\n",
       "    </tr>\n",
       "    <tr>\n",
       "      <th>2</th>\n",
       "      <td>0030a2dd87ad2733e0873062e4f83954mkj86</td>\n",
       "      <td>0.000000e+00</td>\n",
       "      <td>0.000000e+00</td>\n",
       "      <td>0.000000e+00</td>\n",
       "      <td>0.000000e+00</td>\n",
       "      <td>0.000000e+00</td>\n",
       "      <td>0.0</td>\n",
       "    </tr>\n",
       "    <tr>\n",
       "      <th>3</th>\n",
       "      <td>003180b29c6a5f8f1d84a6b7b6f7be57tjj1o</td>\n",
       "      <td>5.369263e+12</td>\n",
       "      <td>6.058642e+13</td>\n",
       "      <td>3.297784e+13</td>\n",
       "      <td>2.760858e+13</td>\n",
       "      <td>3.297784e+13</td>\n",
       "      <td>0.0</td>\n",
       "    </tr>\n",
       "    <tr>\n",
       "      <th>4</th>\n",
       "      <td>00486a11dff552c4bd7696265724ff81yeo9v</td>\n",
       "      <td>3.684211e+08</td>\n",
       "      <td>5.094174e+13</td>\n",
       "      <td>4.018413e+12</td>\n",
       "      <td>1.122958e+13</td>\n",
       "      <td>9.177368e+11</td>\n",
       "      <td>0.0</td>\n",
       "    </tr>\n",
       "  </tbody>\n",
       "</table>\n",
       "</div>"
      ],
      "text/plain": [
       "                               bidder_id     tdiff_min     tdiff_max  \\\n",
       "0  001068c415025a009fee375a12cff4fcnht8y  0.000000e+00  0.000000e+00   \n",
       "1  002d229ffb247009810828f648afc2ef593rb  1.052632e+08  1.052632e+08   \n",
       "2  0030a2dd87ad2733e0873062e4f83954mkj86  0.000000e+00  0.000000e+00   \n",
       "3  003180b29c6a5f8f1d84a6b7b6f7be57tjj1o  5.369263e+12  6.058642e+13   \n",
       "4  00486a11dff552c4bd7696265724ff81yeo9v  3.684211e+08  5.094174e+13   \n",
       "\n",
       "     tdiff_mean     tdiff_std  tdiff_median  tdiff_zeros  \n",
       "0  0.000000e+00  0.000000e+00  0.000000e+00          0.0  \n",
       "1  1.052632e+08  0.000000e+00  1.052632e+08          0.0  \n",
       "2  0.000000e+00  0.000000e+00  0.000000e+00          0.0  \n",
       "3  3.297784e+13  2.760858e+13  3.297784e+13          0.0  \n",
       "4  4.018413e+12  1.122958e+13  9.177368e+11          0.0  "
      ]
     },
     "execution_count": 127,
     "metadata": {},
     "output_type": "execute_result"
    }
   ],
   "source": [
    "time_feat_per_bidder.head()"
   ]
  },
  {
   "cell_type": "code",
   "execution_count": 250,
   "metadata": {},
   "outputs": [],
   "source": [
    "df = pd.merge(df, time_feat_per_bidder, on='bidder_id', how='left')"
   ]
  },
  {
   "cell_type": "code",
   "execution_count": 251,
   "metadata": {},
   "outputs": [],
   "source": [
    "df = df.fillna(0)"
   ]
  },
  {
   "cell_type": "code",
   "execution_count": 263,
   "metadata": {},
   "outputs": [],
   "source": [
    "df.to_csv('gc2_finalcsv1.csv', index = False)"
   ]
  },
  {
   "cell_type": "code",
   "execution_count": 236,
   "metadata": {},
   "outputs": [],
   "source": [
    "df = csv.copy()"
   ]
  },
  {
   "cell_type": "code",
   "execution_count": 252,
   "metadata": {},
   "outputs": [],
   "source": [
    "df.drop(columns = ['bidder_id'], inplace = True)"
   ]
  },
  {
   "cell_type": "code",
   "execution_count": 60,
   "metadata": {},
   "outputs": [
    {
     "data": {
      "text/html": [
       "<div>\n",
       "<style scoped>\n",
       "    .dataframe tbody tr th:only-of-type {\n",
       "        vertical-align: middle;\n",
       "    }\n",
       "\n",
       "    .dataframe tbody tr th {\n",
       "        vertical-align: top;\n",
       "    }\n",
       "\n",
       "    .dataframe thead th {\n",
       "        text-align: right;\n",
       "    }\n",
       "</style>\n",
       "<table border=\"1\" class=\"dataframe\">\n",
       "  <thead>\n",
       "    <tr style=\"text-align: right;\">\n",
       "      <th></th>\n",
       "      <th>bid_count</th>\n",
       "      <th>auction_count</th>\n",
       "      <th>merc_count</th>\n",
       "      <th>device_count</th>\n",
       "      <th>country_count</th>\n",
       "      <th>ip_count</th>\n",
       "      <th>url_count</th>\n",
       "      <th>average_distinct_country_per_auction</th>\n",
       "      <th>average_distinct_urls_per_auction</th>\n",
       "      <th>average_distinct_ip_per_auction</th>\n",
       "      <th>...</th>\n",
       "      <th>price_max</th>\n",
       "      <th>price_mean</th>\n",
       "      <th>price_std</th>\n",
       "      <th>price_median</th>\n",
       "      <th>tdiff_min</th>\n",
       "      <th>tdiff_max</th>\n",
       "      <th>tdiff_mean</th>\n",
       "      <th>tdiff_std</th>\n",
       "      <th>tdiff_median</th>\n",
       "      <th>tdiff_zeros</th>\n",
       "    </tr>\n",
       "  </thead>\n",
       "  <tbody>\n",
       "    <tr>\n",
       "      <th>0</th>\n",
       "      <td>1</td>\n",
       "      <td>1</td>\n",
       "      <td>1</td>\n",
       "      <td>1</td>\n",
       "      <td>1</td>\n",
       "      <td>1</td>\n",
       "      <td>1</td>\n",
       "      <td>1.000</td>\n",
       "      <td>1.000</td>\n",
       "      <td>1.000</td>\n",
       "      <td>...</td>\n",
       "      <td>9.706345e+15</td>\n",
       "      <td>9.706345e+15</td>\n",
       "      <td>0.000000e+00</td>\n",
       "      <td>9.706345e+15</td>\n",
       "      <td>0.000000e+00</td>\n",
       "      <td>0.000000e+00</td>\n",
       "      <td>0.000000e+00</td>\n",
       "      <td>0.000000e+00</td>\n",
       "      <td>0.000000e+00</td>\n",
       "      <td>0.0</td>\n",
       "    </tr>\n",
       "    <tr>\n",
       "      <th>1</th>\n",
       "      <td>1</td>\n",
       "      <td>1</td>\n",
       "      <td>1</td>\n",
       "      <td>1</td>\n",
       "      <td>1</td>\n",
       "      <td>1</td>\n",
       "      <td>1</td>\n",
       "      <td>1.000</td>\n",
       "      <td>1.000</td>\n",
       "      <td>1.000</td>\n",
       "      <td>...</td>\n",
       "      <td>9.704554e+15</td>\n",
       "      <td>9.704554e+15</td>\n",
       "      <td>0.000000e+00</td>\n",
       "      <td>9.704554e+15</td>\n",
       "      <td>0.000000e+00</td>\n",
       "      <td>0.000000e+00</td>\n",
       "      <td>0.000000e+00</td>\n",
       "      <td>0.000000e+00</td>\n",
       "      <td>0.000000e+00</td>\n",
       "      <td>0.0</td>\n",
       "    </tr>\n",
       "    <tr>\n",
       "      <th>2</th>\n",
       "      <td>141</td>\n",
       "      <td>74</td>\n",
       "      <td>1</td>\n",
       "      <td>67</td>\n",
       "      <td>16</td>\n",
       "      <td>103</td>\n",
       "      <td>84</td>\n",
       "      <td>1.000</td>\n",
       "      <td>1.757</td>\n",
       "      <td>1.676</td>\n",
       "      <td>...</td>\n",
       "      <td>9.709115e+15</td>\n",
       "      <td>9.695736e+15</td>\n",
       "      <td>2.174992e+13</td>\n",
       "      <td>9.703529e+15</td>\n",
       "      <td>5.263158e+08</td>\n",
       "      <td>5.012521e+13</td>\n",
       "      <td>5.486831e+11</td>\n",
       "      <td>4.235216e+12</td>\n",
       "      <td>5.615789e+10</td>\n",
       "      <td>0.0</td>\n",
       "    </tr>\n",
       "    <tr>\n",
       "      <th>3</th>\n",
       "      <td>3</td>\n",
       "      <td>3</td>\n",
       "      <td>1</td>\n",
       "      <td>3</td>\n",
       "      <td>2</td>\n",
       "      <td>3</td>\n",
       "      <td>1</td>\n",
       "      <td>1.000</td>\n",
       "      <td>1.000</td>\n",
       "      <td>1.000</td>\n",
       "      <td>...</td>\n",
       "      <td>9.696110e+15</td>\n",
       "      <td>9.659483e+15</td>\n",
       "      <td>2.589943e+13</td>\n",
       "      <td>9.641196e+15</td>\n",
       "      <td>5.405263e+10</td>\n",
       "      <td>5.491395e+13</td>\n",
       "      <td>2.748400e+13</td>\n",
       "      <td>2.742995e+13</td>\n",
       "      <td>2.748400e+13</td>\n",
       "      <td>0.0</td>\n",
       "    </tr>\n",
       "    <tr>\n",
       "      <th>4</th>\n",
       "      <td>543</td>\n",
       "      <td>17</td>\n",
       "      <td>1</td>\n",
       "      <td>165</td>\n",
       "      <td>71</td>\n",
       "      <td>398</td>\n",
       "      <td>4</td>\n",
       "      <td>4.882</td>\n",
       "      <td>1.118</td>\n",
       "      <td>23.647</td>\n",
       "      <td>...</td>\n",
       "      <td>9.772841e+15</td>\n",
       "      <td>9.765410e+15</td>\n",
       "      <td>3.613214e+12</td>\n",
       "      <td>9.765095e+15</td>\n",
       "      <td>5.263158e+07</td>\n",
       "      <td>9.704211e+11</td>\n",
       "      <td>2.507283e+10</td>\n",
       "      <td>5.327973e+10</td>\n",
       "      <td>1.405263e+10</td>\n",
       "      <td>0.0</td>\n",
       "    </tr>\n",
       "  </tbody>\n",
       "</table>\n",
       "<p>5 rows × 41 columns</p>\n",
       "</div>"
      ],
      "text/plain": [
       "   bid_count  auction_count  merc_count  device_count  country_count  \\\n",
       "0          1              1           1             1              1   \n",
       "1          1              1           1             1              1   \n",
       "2        141             74           1            67             16   \n",
       "3          3              3           1             3              2   \n",
       "4        543             17           1           165             71   \n",
       "\n",
       "   ip_count  url_count  average_distinct_country_per_auction  \\\n",
       "0         1          1                                 1.000   \n",
       "1         1          1                                 1.000   \n",
       "2       103         84                                 1.000   \n",
       "3         3          1                                 1.000   \n",
       "4       398          4                                 4.882   \n",
       "\n",
       "   average_distinct_urls_per_auction  average_distinct_ip_per_auction  ...  \\\n",
       "0                              1.000                            1.000  ...   \n",
       "1                              1.000                            1.000  ...   \n",
       "2                              1.757                            1.676  ...   \n",
       "3                              1.000                            1.000  ...   \n",
       "4                              1.118                           23.647  ...   \n",
       "\n",
       "      price_max    price_mean     price_std  price_median     tdiff_min  \\\n",
       "0  9.706345e+15  9.706345e+15  0.000000e+00  9.706345e+15  0.000000e+00   \n",
       "1  9.704554e+15  9.704554e+15  0.000000e+00  9.704554e+15  0.000000e+00   \n",
       "2  9.709115e+15  9.695736e+15  2.174992e+13  9.703529e+15  5.263158e+08   \n",
       "3  9.696110e+15  9.659483e+15  2.589943e+13  9.641196e+15  5.405263e+10   \n",
       "4  9.772841e+15  9.765410e+15  3.613214e+12  9.765095e+15  5.263158e+07   \n",
       "\n",
       "      tdiff_max    tdiff_mean     tdiff_std  tdiff_median  tdiff_zeros  \n",
       "0  0.000000e+00  0.000000e+00  0.000000e+00  0.000000e+00          0.0  \n",
       "1  0.000000e+00  0.000000e+00  0.000000e+00  0.000000e+00          0.0  \n",
       "2  5.012521e+13  5.486831e+11  4.235216e+12  5.615789e+10          0.0  \n",
       "3  5.491395e+13  2.748400e+13  2.742995e+13  2.748400e+13          0.0  \n",
       "4  9.704211e+11  2.507283e+10  5.327973e+10  1.405263e+10          0.0  \n",
       "\n",
       "[5 rows x 41 columns]"
      ]
     },
     "execution_count": 60,
     "metadata": {},
     "output_type": "execute_result"
    }
   ],
   "source": [
    "df.head()"
   ]
  },
  {
   "cell_type": "code",
   "execution_count": 354,
   "metadata": {},
   "outputs": [
    {
     "data": {
      "text/plain": [
       "39"
      ]
     },
     "execution_count": 354,
     "metadata": {},
     "output_type": "execute_result"
    }
   ],
   "source": [
    "len(df.columns)"
   ]
  },
  {
   "cell_type": "code",
   "execution_count": 324,
   "metadata": {},
   "outputs": [
    {
     "data": {
      "text/html": [
       "<div>\n",
       "<style scoped>\n",
       "    .dataframe tbody tr th:only-of-type {\n",
       "        vertical-align: middle;\n",
       "    }\n",
       "\n",
       "    .dataframe tbody tr th {\n",
       "        vertical-align: top;\n",
       "    }\n",
       "\n",
       "    .dataframe thead th {\n",
       "        text-align: right;\n",
       "    }\n",
       "</style>\n",
       "<table border=\"1\" class=\"dataframe\">\n",
       "  <thead>\n",
       "    <tr style=\"text-align: right;\">\n",
       "      <th></th>\n",
       "      <th>bid_count</th>\n",
       "      <th>auction_count</th>\n",
       "      <th>merc_count</th>\n",
       "      <th>device_count</th>\n",
       "      <th>country_count</th>\n",
       "      <th>ip_count</th>\n",
       "      <th>url_count</th>\n",
       "      <th>average_distinct_country_per_auction</th>\n",
       "      <th>average_distinct_urls_per_auction</th>\n",
       "      <th>average_distinct_ip_per_auction</th>\n",
       "      <th>...</th>\n",
       "      <th>price_min</th>\n",
       "      <th>price_max</th>\n",
       "      <th>price_mean</th>\n",
       "      <th>price_std</th>\n",
       "      <th>price_median</th>\n",
       "      <th>tdiff_min</th>\n",
       "      <th>tdiff_max</th>\n",
       "      <th>tdiff_mean</th>\n",
       "      <th>tdiff_std</th>\n",
       "      <th>tdiff_median</th>\n",
       "    </tr>\n",
       "  </thead>\n",
       "  <tbody>\n",
       "    <tr>\n",
       "      <th>0</th>\n",
       "      <td>1</td>\n",
       "      <td>1</td>\n",
       "      <td>1</td>\n",
       "      <td>1</td>\n",
       "      <td>1</td>\n",
       "      <td>1</td>\n",
       "      <td>1</td>\n",
       "      <td>1.000</td>\n",
       "      <td>1.000</td>\n",
       "      <td>1.000</td>\n",
       "      <td>...</td>\n",
       "      <td>9.706345e+15</td>\n",
       "      <td>9.706345e+15</td>\n",
       "      <td>9.706345e+15</td>\n",
       "      <td>0.000000e+00</td>\n",
       "      <td>9.706345e+15</td>\n",
       "      <td>0.000000e+00</td>\n",
       "      <td>0.000000e+00</td>\n",
       "      <td>0.000000e+00</td>\n",
       "      <td>0.000000e+00</td>\n",
       "      <td>0.000000e+00</td>\n",
       "    </tr>\n",
       "    <tr>\n",
       "      <th>1</th>\n",
       "      <td>1</td>\n",
       "      <td>1</td>\n",
       "      <td>1</td>\n",
       "      <td>1</td>\n",
       "      <td>1</td>\n",
       "      <td>1</td>\n",
       "      <td>1</td>\n",
       "      <td>1.000</td>\n",
       "      <td>1.000</td>\n",
       "      <td>1.000</td>\n",
       "      <td>...</td>\n",
       "      <td>9.704554e+15</td>\n",
       "      <td>9.704554e+15</td>\n",
       "      <td>9.704554e+15</td>\n",
       "      <td>0.000000e+00</td>\n",
       "      <td>9.704554e+15</td>\n",
       "      <td>0.000000e+00</td>\n",
       "      <td>0.000000e+00</td>\n",
       "      <td>0.000000e+00</td>\n",
       "      <td>0.000000e+00</td>\n",
       "      <td>0.000000e+00</td>\n",
       "    </tr>\n",
       "    <tr>\n",
       "      <th>2</th>\n",
       "      <td>141</td>\n",
       "      <td>74</td>\n",
       "      <td>1</td>\n",
       "      <td>67</td>\n",
       "      <td>16</td>\n",
       "      <td>103</td>\n",
       "      <td>84</td>\n",
       "      <td>1.000</td>\n",
       "      <td>1.757</td>\n",
       "      <td>1.676</td>\n",
       "      <td>...</td>\n",
       "      <td>9.632300e+15</td>\n",
       "      <td>9.709115e+15</td>\n",
       "      <td>9.695736e+15</td>\n",
       "      <td>2.174992e+13</td>\n",
       "      <td>9.703529e+15</td>\n",
       "      <td>5.263158e+08</td>\n",
       "      <td>5.012521e+13</td>\n",
       "      <td>5.486831e+11</td>\n",
       "      <td>4.235216e+12</td>\n",
       "      <td>5.615789e+10</td>\n",
       "    </tr>\n",
       "    <tr>\n",
       "      <th>3</th>\n",
       "      <td>3</td>\n",
       "      <td>3</td>\n",
       "      <td>1</td>\n",
       "      <td>3</td>\n",
       "      <td>2</td>\n",
       "      <td>3</td>\n",
       "      <td>1</td>\n",
       "      <td>1.000</td>\n",
       "      <td>1.000</td>\n",
       "      <td>1.000</td>\n",
       "      <td>...</td>\n",
       "      <td>9.641142e+15</td>\n",
       "      <td>9.696110e+15</td>\n",
       "      <td>9.659483e+15</td>\n",
       "      <td>2.589943e+13</td>\n",
       "      <td>9.641196e+15</td>\n",
       "      <td>5.405263e+10</td>\n",
       "      <td>5.491395e+13</td>\n",
       "      <td>2.748400e+13</td>\n",
       "      <td>2.742995e+13</td>\n",
       "      <td>2.748400e+13</td>\n",
       "    </tr>\n",
       "    <tr>\n",
       "      <th>4</th>\n",
       "      <td>543</td>\n",
       "      <td>17</td>\n",
       "      <td>1</td>\n",
       "      <td>165</td>\n",
       "      <td>71</td>\n",
       "      <td>398</td>\n",
       "      <td>4</td>\n",
       "      <td>4.882</td>\n",
       "      <td>1.118</td>\n",
       "      <td>23.647</td>\n",
       "      <td>...</td>\n",
       "      <td>9.759251e+15</td>\n",
       "      <td>9.772841e+15</td>\n",
       "      <td>9.765410e+15</td>\n",
       "      <td>3.613214e+12</td>\n",
       "      <td>9.765095e+15</td>\n",
       "      <td>5.263158e+07</td>\n",
       "      <td>9.704211e+11</td>\n",
       "      <td>2.507283e+10</td>\n",
       "      <td>5.327973e+10</td>\n",
       "      <td>1.405263e+10</td>\n",
       "    </tr>\n",
       "  </tbody>\n",
       "</table>\n",
       "<p>5 rows × 39 columns</p>\n",
       "</div>"
      ],
      "text/plain": [
       "   bid_count  auction_count  merc_count  device_count  country_count  \\\n",
       "0          1              1           1             1              1   \n",
       "1          1              1           1             1              1   \n",
       "2        141             74           1            67             16   \n",
       "3          3              3           1             3              2   \n",
       "4        543             17           1           165             71   \n",
       "\n",
       "   ip_count  url_count  average_distinct_country_per_auction  \\\n",
       "0         1          1                                 1.000   \n",
       "1         1          1                                 1.000   \n",
       "2       103         84                                 1.000   \n",
       "3         3          1                                 1.000   \n",
       "4       398          4                                 4.882   \n",
       "\n",
       "   average_distinct_urls_per_auction  average_distinct_ip_per_auction  ...  \\\n",
       "0                              1.000                            1.000  ...   \n",
       "1                              1.000                            1.000  ...   \n",
       "2                              1.757                            1.676  ...   \n",
       "3                              1.000                            1.000  ...   \n",
       "4                              1.118                           23.647  ...   \n",
       "\n",
       "      price_min     price_max    price_mean     price_std  price_median  \\\n",
       "0  9.706345e+15  9.706345e+15  9.706345e+15  0.000000e+00  9.706345e+15   \n",
       "1  9.704554e+15  9.704554e+15  9.704554e+15  0.000000e+00  9.704554e+15   \n",
       "2  9.632300e+15  9.709115e+15  9.695736e+15  2.174992e+13  9.703529e+15   \n",
       "3  9.641142e+15  9.696110e+15  9.659483e+15  2.589943e+13  9.641196e+15   \n",
       "4  9.759251e+15  9.772841e+15  9.765410e+15  3.613214e+12  9.765095e+15   \n",
       "\n",
       "      tdiff_min     tdiff_max    tdiff_mean     tdiff_std  tdiff_median  \n",
       "0  0.000000e+00  0.000000e+00  0.000000e+00  0.000000e+00  0.000000e+00  \n",
       "1  0.000000e+00  0.000000e+00  0.000000e+00  0.000000e+00  0.000000e+00  \n",
       "2  5.263158e+08  5.012521e+13  5.486831e+11  4.235216e+12  5.615789e+10  \n",
       "3  5.405263e+10  5.491395e+13  2.748400e+13  2.742995e+13  2.748400e+13  \n",
       "4  5.263158e+07  9.704211e+11  2.507283e+10  5.327973e+10  1.405263e+10  \n",
       "\n",
       "[5 rows x 39 columns]"
      ]
     },
     "execution_count": 324,
     "metadata": {},
     "output_type": "execute_result"
    }
   ],
   "source": [
    "df.head()"
   ]
  },
  {
   "cell_type": "code",
   "execution_count": 325,
   "metadata": {},
   "outputs": [
    {
     "data": {
      "text/plain": [
       "(1984, 39)"
      ]
     },
     "execution_count": 325,
     "metadata": {},
     "output_type": "execute_result"
    }
   ],
   "source": [
    "df.shape"
   ]
  },
  {
   "cell_type": "code",
   "execution_count": 172,
   "metadata": {},
   "outputs": [],
   "source": [
    "df.drop(columns = ['median_time_to_respond_self','median_time_to_respond_competition', 'tdiff_zeros'], inplace = True)"
   ]
  },
  {
   "cell_type": "code",
   "execution_count": 207,
   "metadata": {},
   "outputs": [],
   "source": [
    "df.drop(columns = ['median_time_to_respond_self'], inplace = True)"
   ]
  },
  {
   "cell_type": "code",
   "execution_count": 255,
   "metadata": {},
   "outputs": [],
   "source": [
    "df.drop(columns = ['tdiff_zeros'], inplace = True)"
   ]
  },
  {
   "cell_type": "code",
   "execution_count": 280,
   "metadata": {},
   "outputs": [],
   "source": [
    "df.drop(columns = ['index', 'index_x', 'index_y'], inplace = True)"
   ]
  },
  {
   "cell_type": "code",
   "execution_count": 292,
   "metadata": {},
   "outputs": [],
   "source": [
    "df.drop(columns = ['median_response_time'], inplace = True)"
   ]
  },
  {
   "cell_type": "code",
   "execution_count": 316,
   "metadata": {},
   "outputs": [],
   "source": [
    "df.to_csv('gc2_finalcsv.csv', index = False)"
   ]
  },
  {
   "cell_type": "code",
   "execution_count": 238,
   "metadata": {},
   "outputs": [],
   "source": [
    "from sklearn.ensemble import RandomForestClassifier\n",
    "model3 = RandomForestClassifier(n_estimators=300, class_weight = 'balanced')"
   ]
  },
  {
   "cell_type": "code",
   "execution_count": 317,
   "metadata": {},
   "outputs": [],
   "source": [
    "Y = df[['outcome']] # Target variable\n",
    "X = df.drop(['outcome'], axis=1) # Train set (All columns except attack_type)"
   ]
  },
  {
   "cell_type": "code",
   "execution_count": 318,
   "metadata": {},
   "outputs": [],
   "source": [
    "from sklearn.model_selection import train_test_split"
   ]
  },
  {
   "cell_type": "code",
   "execution_count": 319,
   "metadata": {},
   "outputs": [],
   "source": [
    "X_train, X_test, Y_train, Y_test = train_test_split(X, Y, test_size=0.2, random_state=42)"
   ]
  },
  {
   "cell_type": "code",
   "execution_count": 320,
   "metadata": {},
   "outputs": [
    {
     "data": {
      "text/html": [
       "<style>#sk-container-id-24 {color: black;background-color: white;}#sk-container-id-24 pre{padding: 0;}#sk-container-id-24 div.sk-toggleable {background-color: white;}#sk-container-id-24 label.sk-toggleable__label {cursor: pointer;display: block;width: 100%;margin-bottom: 0;padding: 0.3em;box-sizing: border-box;text-align: center;}#sk-container-id-24 label.sk-toggleable__label-arrow:before {content: \"▸\";float: left;margin-right: 0.25em;color: #696969;}#sk-container-id-24 label.sk-toggleable__label-arrow:hover:before {color: black;}#sk-container-id-24 div.sk-estimator:hover label.sk-toggleable__label-arrow:before {color: black;}#sk-container-id-24 div.sk-toggleable__content {max-height: 0;max-width: 0;overflow: hidden;text-align: left;background-color: #f0f8ff;}#sk-container-id-24 div.sk-toggleable__content pre {margin: 0.2em;color: black;border-radius: 0.25em;background-color: #f0f8ff;}#sk-container-id-24 input.sk-toggleable__control:checked~div.sk-toggleable__content {max-height: 200px;max-width: 100%;overflow: auto;}#sk-container-id-24 input.sk-toggleable__control:checked~label.sk-toggleable__label-arrow:before {content: \"▾\";}#sk-container-id-24 div.sk-estimator input.sk-toggleable__control:checked~label.sk-toggleable__label {background-color: #d4ebff;}#sk-container-id-24 div.sk-label input.sk-toggleable__control:checked~label.sk-toggleable__label {background-color: #d4ebff;}#sk-container-id-24 input.sk-hidden--visually {border: 0;clip: rect(1px 1px 1px 1px);clip: rect(1px, 1px, 1px, 1px);height: 1px;margin: -1px;overflow: hidden;padding: 0;position: absolute;width: 1px;}#sk-container-id-24 div.sk-estimator {font-family: monospace;background-color: #f0f8ff;border: 1px dotted black;border-radius: 0.25em;box-sizing: border-box;margin-bottom: 0.5em;}#sk-container-id-24 div.sk-estimator:hover {background-color: #d4ebff;}#sk-container-id-24 div.sk-parallel-item::after {content: \"\";width: 100%;border-bottom: 1px solid gray;flex-grow: 1;}#sk-container-id-24 div.sk-label:hover label.sk-toggleable__label {background-color: #d4ebff;}#sk-container-id-24 div.sk-serial::before {content: \"\";position: absolute;border-left: 1px solid gray;box-sizing: border-box;top: 0;bottom: 0;left: 50%;z-index: 0;}#sk-container-id-24 div.sk-serial {display: flex;flex-direction: column;align-items: center;background-color: white;padding-right: 0.2em;padding-left: 0.2em;position: relative;}#sk-container-id-24 div.sk-item {position: relative;z-index: 1;}#sk-container-id-24 div.sk-parallel {display: flex;align-items: stretch;justify-content: center;background-color: white;position: relative;}#sk-container-id-24 div.sk-item::before, #sk-container-id-24 div.sk-parallel-item::before {content: \"\";position: absolute;border-left: 1px solid gray;box-sizing: border-box;top: 0;bottom: 0;left: 50%;z-index: -1;}#sk-container-id-24 div.sk-parallel-item {display: flex;flex-direction: column;z-index: 1;position: relative;background-color: white;}#sk-container-id-24 div.sk-parallel-item:first-child::after {align-self: flex-end;width: 50%;}#sk-container-id-24 div.sk-parallel-item:last-child::after {align-self: flex-start;width: 50%;}#sk-container-id-24 div.sk-parallel-item:only-child::after {width: 0;}#sk-container-id-24 div.sk-dashed-wrapped {border: 1px dashed gray;margin: 0 0.4em 0.5em 0.4em;box-sizing: border-box;padding-bottom: 0.4em;background-color: white;}#sk-container-id-24 div.sk-label label {font-family: monospace;font-weight: bold;display: inline-block;line-height: 1.2em;}#sk-container-id-24 div.sk-label-container {text-align: center;}#sk-container-id-24 div.sk-container {/* jupyter's `normalize.less` sets `[hidden] { display: none; }` but bootstrap.min.css set `[hidden] { display: none !important; }` so we also need the `!important` here to be able to override the default hidden behavior on the sphinx rendered scikit-learn.org. See: https://github.com/scikit-learn/scikit-learn/issues/21755 */display: inline-block !important;position: relative;}#sk-container-id-24 div.sk-text-repr-fallback {display: none;}</style><div id=\"sk-container-id-24\" class=\"sk-top-container\"><div class=\"sk-text-repr-fallback\"><pre>RandomForestClassifier(class_weight=&#x27;balanced&#x27;, n_estimators=300)</pre><b>In a Jupyter environment, please rerun this cell to show the HTML representation or trust the notebook. <br />On GitHub, the HTML representation is unable to render, please try loading this page with nbviewer.org.</b></div><div class=\"sk-container\" hidden><div class=\"sk-item\"><div class=\"sk-estimator sk-toggleable\"><input class=\"sk-toggleable__control sk-hidden--visually\" id=\"sk-estimator-id-24\" type=\"checkbox\" checked><label for=\"sk-estimator-id-24\" class=\"sk-toggleable__label sk-toggleable__label-arrow\">RandomForestClassifier</label><div class=\"sk-toggleable__content\"><pre>RandomForestClassifier(class_weight=&#x27;balanced&#x27;, n_estimators=300)</pre></div></div></div></div></div>"
      ],
      "text/plain": [
       "RandomForestClassifier(class_weight='balanced', n_estimators=300)"
      ]
     },
     "execution_count": 320,
     "metadata": {},
     "output_type": "execute_result"
    }
   ],
   "source": [
    "model3.fit(X_train, Y_train.values.ravel())"
   ]
  },
  {
   "cell_type": "code",
   "execution_count": 321,
   "metadata": {},
   "outputs": [],
   "source": [
    "Y_test_pred1 = model3.predict(X_test)"
   ]
  },
  {
   "cell_type": "code",
   "execution_count": 322,
   "metadata": {},
   "outputs": [],
   "source": [
    "nb_train_score = model3.score(X_train,Y_train)\n",
    "nb_test_score = model3.score(X_test,Y_test)"
   ]
  },
  {
   "cell_type": "code",
   "execution_count": 323,
   "metadata": {},
   "outputs": [
    {
     "name": "stdout",
     "output_type": "stream",
     "text": [
      "Train score:  1.0\n",
      "Test score:  0.9546599496221663\n"
     ]
    }
   ],
   "source": [
    "print(\"Train score: \",nb_train_score)\n",
    "print(\"Test score: \",nb_test_score)"
   ]
  },
  {
   "cell_type": "code",
   "execution_count": 300,
   "metadata": {},
   "outputs": [
    {
     "data": {
      "text/html": [
       "<div>\n",
       "<style scoped>\n",
       "    .dataframe tbody tr th:only-of-type {\n",
       "        vertical-align: middle;\n",
       "    }\n",
       "\n",
       "    .dataframe tbody tr th {\n",
       "        vertical-align: top;\n",
       "    }\n",
       "\n",
       "    .dataframe thead th {\n",
       "        text-align: right;\n",
       "    }\n",
       "</style>\n",
       "<table border=\"1\" class=\"dataframe\">\n",
       "  <thead>\n",
       "    <tr style=\"text-align: right;\">\n",
       "      <th></th>\n",
       "      <th>bid_count</th>\n",
       "      <th>auction_count</th>\n",
       "      <th>merc_count</th>\n",
       "      <th>device_count</th>\n",
       "      <th>country_count</th>\n",
       "      <th>ip_count</th>\n",
       "      <th>url_count</th>\n",
       "      <th>average_distinct_country_per_auction</th>\n",
       "      <th>average_distinct_urls_per_auction</th>\n",
       "      <th>average_distinct_ip_per_auction</th>\n",
       "      <th>...</th>\n",
       "      <th>price_min</th>\n",
       "      <th>price_max</th>\n",
       "      <th>price_mean</th>\n",
       "      <th>price_std</th>\n",
       "      <th>price_median</th>\n",
       "      <th>tdiff_min</th>\n",
       "      <th>tdiff_max</th>\n",
       "      <th>tdiff_mean</th>\n",
       "      <th>tdiff_std</th>\n",
       "      <th>tdiff_median</th>\n",
       "    </tr>\n",
       "  </thead>\n",
       "  <tbody>\n",
       "    <tr>\n",
       "      <th>0</th>\n",
       "      <td>1</td>\n",
       "      <td>1</td>\n",
       "      <td>1</td>\n",
       "      <td>1</td>\n",
       "      <td>1</td>\n",
       "      <td>1</td>\n",
       "      <td>1</td>\n",
       "      <td>1.000</td>\n",
       "      <td>1.000</td>\n",
       "      <td>1.000</td>\n",
       "      <td>...</td>\n",
       "      <td>9.706345e+15</td>\n",
       "      <td>9.706345e+15</td>\n",
       "      <td>9.706345e+15</td>\n",
       "      <td>0.000000e+00</td>\n",
       "      <td>9.706345e+15</td>\n",
       "      <td>0.000000e+00</td>\n",
       "      <td>0.000000e+00</td>\n",
       "      <td>0.000000e+00</td>\n",
       "      <td>0.000000e+00</td>\n",
       "      <td>0.000000e+00</td>\n",
       "    </tr>\n",
       "    <tr>\n",
       "      <th>1</th>\n",
       "      <td>1</td>\n",
       "      <td>1</td>\n",
       "      <td>1</td>\n",
       "      <td>1</td>\n",
       "      <td>1</td>\n",
       "      <td>1</td>\n",
       "      <td>1</td>\n",
       "      <td>1.000</td>\n",
       "      <td>1.000</td>\n",
       "      <td>1.000</td>\n",
       "      <td>...</td>\n",
       "      <td>9.704554e+15</td>\n",
       "      <td>9.704554e+15</td>\n",
       "      <td>9.704554e+15</td>\n",
       "      <td>0.000000e+00</td>\n",
       "      <td>9.704554e+15</td>\n",
       "      <td>0.000000e+00</td>\n",
       "      <td>0.000000e+00</td>\n",
       "      <td>0.000000e+00</td>\n",
       "      <td>0.000000e+00</td>\n",
       "      <td>0.000000e+00</td>\n",
       "    </tr>\n",
       "    <tr>\n",
       "      <th>2</th>\n",
       "      <td>141</td>\n",
       "      <td>74</td>\n",
       "      <td>1</td>\n",
       "      <td>67</td>\n",
       "      <td>16</td>\n",
       "      <td>103</td>\n",
       "      <td>84</td>\n",
       "      <td>1.000</td>\n",
       "      <td>1.757</td>\n",
       "      <td>1.676</td>\n",
       "      <td>...</td>\n",
       "      <td>9.632300e+15</td>\n",
       "      <td>9.709115e+15</td>\n",
       "      <td>9.695736e+15</td>\n",
       "      <td>2.174992e+13</td>\n",
       "      <td>9.703529e+15</td>\n",
       "      <td>5.263158e+08</td>\n",
       "      <td>5.012521e+13</td>\n",
       "      <td>5.486831e+11</td>\n",
       "      <td>4.235216e+12</td>\n",
       "      <td>5.615789e+10</td>\n",
       "    </tr>\n",
       "    <tr>\n",
       "      <th>3</th>\n",
       "      <td>3</td>\n",
       "      <td>3</td>\n",
       "      <td>1</td>\n",
       "      <td>3</td>\n",
       "      <td>2</td>\n",
       "      <td>3</td>\n",
       "      <td>1</td>\n",
       "      <td>1.000</td>\n",
       "      <td>1.000</td>\n",
       "      <td>1.000</td>\n",
       "      <td>...</td>\n",
       "      <td>9.641142e+15</td>\n",
       "      <td>9.696110e+15</td>\n",
       "      <td>9.659483e+15</td>\n",
       "      <td>2.589943e+13</td>\n",
       "      <td>9.641196e+15</td>\n",
       "      <td>5.405263e+10</td>\n",
       "      <td>5.491395e+13</td>\n",
       "      <td>2.748400e+13</td>\n",
       "      <td>2.742995e+13</td>\n",
       "      <td>2.748400e+13</td>\n",
       "    </tr>\n",
       "    <tr>\n",
       "      <th>4</th>\n",
       "      <td>543</td>\n",
       "      <td>17</td>\n",
       "      <td>1</td>\n",
       "      <td>165</td>\n",
       "      <td>71</td>\n",
       "      <td>398</td>\n",
       "      <td>4</td>\n",
       "      <td>4.882</td>\n",
       "      <td>1.118</td>\n",
       "      <td>23.647</td>\n",
       "      <td>...</td>\n",
       "      <td>9.759251e+15</td>\n",
       "      <td>9.772841e+15</td>\n",
       "      <td>9.765410e+15</td>\n",
       "      <td>3.613214e+12</td>\n",
       "      <td>9.765095e+15</td>\n",
       "      <td>5.263158e+07</td>\n",
       "      <td>9.704211e+11</td>\n",
       "      <td>2.507283e+10</td>\n",
       "      <td>5.327973e+10</td>\n",
       "      <td>1.405263e+10</td>\n",
       "    </tr>\n",
       "  </tbody>\n",
       "</table>\n",
       "<p>5 rows × 39 columns</p>\n",
       "</div>"
      ],
      "text/plain": [
       "   bid_count  auction_count  merc_count  device_count  country_count  \\\n",
       "0          1              1           1             1              1   \n",
       "1          1              1           1             1              1   \n",
       "2        141             74           1            67             16   \n",
       "3          3              3           1             3              2   \n",
       "4        543             17           1           165             71   \n",
       "\n",
       "   ip_count  url_count  average_distinct_country_per_auction  \\\n",
       "0         1          1                                 1.000   \n",
       "1         1          1                                 1.000   \n",
       "2       103         84                                 1.000   \n",
       "3         3          1                                 1.000   \n",
       "4       398          4                                 4.882   \n",
       "\n",
       "   average_distinct_urls_per_auction  average_distinct_ip_per_auction  ...  \\\n",
       "0                              1.000                            1.000  ...   \n",
       "1                              1.000                            1.000  ...   \n",
       "2                              1.757                            1.676  ...   \n",
       "3                              1.000                            1.000  ...   \n",
       "4                              1.118                           23.647  ...   \n",
       "\n",
       "      price_min     price_max    price_mean     price_std  price_median  \\\n",
       "0  9.706345e+15  9.706345e+15  9.706345e+15  0.000000e+00  9.706345e+15   \n",
       "1  9.704554e+15  9.704554e+15  9.704554e+15  0.000000e+00  9.704554e+15   \n",
       "2  9.632300e+15  9.709115e+15  9.695736e+15  2.174992e+13  9.703529e+15   \n",
       "3  9.641142e+15  9.696110e+15  9.659483e+15  2.589943e+13  9.641196e+15   \n",
       "4  9.759251e+15  9.772841e+15  9.765410e+15  3.613214e+12  9.765095e+15   \n",
       "\n",
       "      tdiff_min     tdiff_max    tdiff_mean     tdiff_std  tdiff_median  \n",
       "0  0.000000e+00  0.000000e+00  0.000000e+00  0.000000e+00  0.000000e+00  \n",
       "1  0.000000e+00  0.000000e+00  0.000000e+00  0.000000e+00  0.000000e+00  \n",
       "2  5.263158e+08  5.012521e+13  5.486831e+11  4.235216e+12  5.615789e+10  \n",
       "3  5.405263e+10  5.491395e+13  2.748400e+13  2.742995e+13  2.748400e+13  \n",
       "4  5.263158e+07  9.704211e+11  2.507283e+10  5.327973e+10  1.405263e+10  \n",
       "\n",
       "[5 rows x 39 columns]"
      ]
     },
     "execution_count": 300,
     "metadata": {},
     "output_type": "execute_result"
    }
   ],
   "source": [
    "df.head()"
   ]
  },
  {
   "cell_type": "code",
   "execution_count": 301,
   "metadata": {},
   "outputs": [],
   "source": [
    "import scikitplot as skplt\n",
    "from sklearn.metrics import accuracy_score, classification_report\n",
    "from sklearn.metrics import cohen_kappa_score, confusion_matrix\n",
    "import matplotlib.pyplot as plt"
   ]
  },
  {
   "cell_type": "code",
   "execution_count": 302,
   "metadata": {},
   "outputs": [
    {
     "name": "stdout",
     "output_type": "stream",
     "text": [
      "\n",
      "Testing Results of the trained model: \n",
      "\n",
      "Accuracy :  0.9546599496221663\n",
      "\n",
      "Confusion Matrix :\n",
      " [[373   1]\n",
      " [ 17   6]]\n",
      "\n",
      "Classification Report :\n",
      "               precision    recall  f1-score   support\n",
      "\n",
      "         0.0       0.96      1.00      0.98       374\n",
      "         1.0       0.86      0.26      0.40        23\n",
      "\n",
      "    accuracy                           0.95       397\n",
      "   macro avg       0.91      0.63      0.69       397\n",
      "weighted avg       0.95      0.95      0.94       397\n",
      "\n"
     ]
    },
    {
     "data": {
      "image/png": "[encoded data removed]",
      "text/plain": [
       "<Figure size 792x792 with 2 Axes>"
      ]
     },
     "metadata": {
      "needs_background": "light"
     },
     "output_type": "display_data"
    }
   ],
   "source": [
    "# Evaluate the skill of the Trained model\n",
    "acc                 = accuracy_score(Y_test, Y_test_pred1)\n",
    "classReport         = classification_report(Y_test, Y_test_pred1)\n",
    "confMatrix          = confusion_matrix(Y_test, Y_test_pred1) \n",
    "        \n",
    "print(); print('Testing Results of the trained model: ')\n",
    "print(); print('Accuracy : ', acc)\n",
    "print(); print('Confusion Matrix :\\n', confMatrix)\n",
    "print(); print('Classification Report :\\n',classReport)\n",
    "skplt.metrics.plot_confusion_matrix(Y_test, Y_test_pred1, figsize=(11,11)); plt.show()"
   ]
  },
  {
   "cell_type": "code",
   "execution_count": 303,
   "metadata": {},
   "outputs": [],
   "source": [
    "importances = model3.feature_importances_\n",
    "#\n",
    "# Sort the feature importance in descending order\n",
    "#\n",
    "sorted_indices = np.argsort(importances)[::-1]"
   ]
  },
  {
   "cell_type": "code",
   "execution_count": 355,
   "metadata": {},
   "outputs": [
    {
     "data": {
      "text/plain": [
       "array([9.68940026e-02, 9.61323300e-02, 9.35510510e-02, 6.84682724e-02,\n",
       "       4.90350176e-02, 3.86187231e-02, 3.83873667e-02, 3.02042629e-02,\n",
       "       2.73331951e-02, 2.71057000e-02, 2.41926516e-02, 2.37770130e-02,\n",
       "       2.27803183e-02, 2.24876186e-02, 2.21276693e-02, 2.17626146e-02,\n",
       "       2.15162638e-02, 2.07820820e-02, 2.03929966e-02, 1.93006480e-02,\n",
       "       1.84977429e-02, 1.78317138e-02, 1.76438316e-02, 1.73401900e-02,\n",
       "       1.71468097e-02, 1.65038981e-02, 1.58792196e-02, 1.44557448e-02,\n",
       "       1.42165920e-02, 1.34781053e-02, 1.16238548e-02, 1.12690563e-02,\n",
       "       1.07323746e-02, 9.13514904e-03, 4.89585597e-03, 4.50006411e-03,\n",
       "       1.00213356e-17, 6.93587104e-19])"
      ]
     },
     "execution_count": 355,
     "metadata": {},
     "output_type": "execute_result"
    }
   ],
   "source": [
    "importances[sorted_indices]"
   ]
  },
  {
   "cell_type": "code",
   "execution_count": 358,
   "metadata": {},
   "outputs": [],
   "source": [
    "x = np.array([9.68940026e-02, 9.61323300e-02, 9.35510510e-02, 6.84682724e-02,\n",
    "       3.86187231e-02, 3.83873667e-02, \n",
    "       2.73331951e-02, 2.71057000e-02, 2.41926516e-02, 2.37770130e-02,\n",
    "       2.27803183e-02, 2.24876186e-02, 2.21276693e-02, 2.17626146e-02,\n",
    "       2.15162638e-02, 2.07820820e-02, 2.03929966e-02, 1.93006480e-02,\n",
    "       1.84977429e-02, 1.78317138e-02, 1.73401900e-02,\n",
    "       1.71468097e-02, 1.65038981e-02, 1.58792196e-02, 1.44557448e-02,\n",
    "       1.42165920e-02, 1.34781053e-02, 1.16238548e-02, 1.12690563e-02,\n",
    "       1.07323746e-02, 9.13514904e-03, 4.89585597e-03, 4.50006411e-03,\n",
    "       1.00213356e-17, 6.93587104e-19])"
   ]
  },
  {
   "cell_type": "code",
   "execution_count": 356,
   "metadata": {},
   "outputs": [
    {
     "data": {
      "text/plain": [
       "38"
      ]
     },
     "execution_count": 356,
     "metadata": {},
     "output_type": "execute_result"
    }
   ],
   "source": [
    "X_train.shape[1]"
   ]
  },
  {
   "cell_type": "code",
   "execution_count": 304,
   "metadata": {},
   "outputs": [],
   "source": [
    "cols = X.columns"
   ]
  },
  {
   "cell_type": "code",
   "execution_count": 357,
   "metadata": {},
   "outputs": [
    {
     "data": {
      "text/plain": [
       "Index(['bid_count', 'average_bids_per_auction', 'tdiff_median', 'tdiff_mean',\n",
       "       'median_time_to_respond_self', 'avg_bids_auction', 'ip_entropy',\n",
       "       'median_response_time_across_auction', 'price_std', 'response_max',\n",
       "       'price_mean', 'tdiff_min', 'price_max', 'ip_count', 'response_median',\n",
       "       'price_min', 'price_median', 'auction_count', 'competitors',\n",
       "       'url_entropy', 'device_count', 'response_std',\n",
       "       'median_time_to_respond_competition', 'tdiff_std', 'num_auction',\n",
       "       'tdiff_max', 'average_distinct_dev_per_auction', 'response_mean',\n",
       "       'average_distinct_ip_per_auction', 'url_count', 'country_count',\n",
       "       'average_distinct_urls_per_auction',\n",
       "       'average_distinct_country_per_auction', 'response_min',\n",
       "       'num_auction_won', 'percentage_win', 'merc_count',\n",
       "       'average_distinct_merc_per_auction'],\n",
       "      dtype='object')"
      ]
     },
     "execution_count": 357,
     "metadata": {},
     "output_type": "execute_result"
    }
   ],
   "source": [
    "cols[sorted_indices]"
   ]
  },
  {
   "cell_type": "code",
   "execution_count": 359,
   "metadata": {},
   "outputs": [],
   "source": [
    "labels = ['bid_count', 'average_bids_per_auction', 'tdiff_median', 'tdiff_mean',\n",
    "        'avg_bids_auction', 'ip_entropy',\n",
    "        'price_std', 'response_max',\n",
    "       'price_mean', 'tdiff_min', 'price_max', 'ip_count', 'response_median',\n",
    "       'price_min', 'price_median', 'auction_count', 'competitors',\n",
    "       'url_entropy', 'device_count', 'response_std',\n",
    "        'tdiff_std', 'num_auction',\n",
    "       'tdiff_max', 'average_distinct_dev_per_auction', 'response_mean',\n",
    "       'average_distinct_ip_per_auction', 'url_count', 'country_count',\n",
    "       'average_distinct_urls_per_auction',\n",
    "       'average_distinct_country_per_auction', 'response_min',\n",
    "       'num_auction_won', 'percentage_win', 'merc_count',\n",
    "       'average_distinct_merc_per_auction']"
   ]
  },
  {
   "cell_type": "code",
   "execution_count": 369,
   "metadata": {},
   "outputs": [
    {
     "data": {
      "image/png": "[encoded data removed]",
      "text/plain": [
       "<Figure size 2160x1584 with 1 Axes>"
      ]
     },
     "metadata": {
      "needs_background": "light"
     },
     "output_type": "display_data"
    }
   ],
   "source": [
    "import matplotlib.pyplot as plt\n",
    " \n",
    "plt.figure(figsize=(30,22))\n",
    "plt.title('Feature Importance')\n",
    "plt.bar(range(35), x)\n",
    "plt.xticks(range(35), labels, rotation=90,weight = 'bold')\n",
    "#plt.tight_layout()\n",
    "#plt.show()\n",
    "plt.savefig('features.png')"
   ]
  },
  {
   "cell_type": "code",
   "execution_count": 346,
   "metadata": {},
   "outputs": [],
   "source": [
    "from sklearn.linear_model import LogisticRegression\n",
    "lr = LogisticRegression(class_weight='balanced', max_iter = 1000)"
   ]
  },
  {
   "cell_type": "code",
   "execution_count": 330,
   "metadata": {},
   "outputs": [],
   "source": [
    "from sklearn.preprocessing import StandardScaler"
   ]
  },
  {
   "cell_type": "code",
   "execution_count": 331,
   "metadata": {},
   "outputs": [],
   "source": [
    "sc = StandardScaler()\n",
    "XX = sc.fit_transform(X)"
   ]
  },
  {
   "cell_type": "code",
   "execution_count": 347,
   "metadata": {},
   "outputs": [],
   "source": [
    "X_train, X_test, y_train, y_test = train_test_split(XX, Y, test_size=0.2, random_state=42)"
   ]
  },
  {
   "cell_type": "code",
   "execution_count": 348,
   "metadata": {},
   "outputs": [
    {
     "data": {
      "text/html": [
       "<style>#sk-container-id-30 {color: black;background-color: white;}#sk-container-id-30 pre{padding: 0;}#sk-container-id-30 div.sk-toggleable {background-color: white;}#sk-container-id-30 label.sk-toggleable__label {cursor: pointer;display: block;width: 100%;margin-bottom: 0;padding: 0.3em;box-sizing: border-box;text-align: center;}#sk-container-id-30 label.sk-toggleable__label-arrow:before {content: \"▸\";float: left;margin-right: 0.25em;color: #696969;}#sk-container-id-30 label.sk-toggleable__label-arrow:hover:before {color: black;}#sk-container-id-30 div.sk-estimator:hover label.sk-toggleable__label-arrow:before {color: black;}#sk-container-id-30 div.sk-toggleable__content {max-height: 0;max-width: 0;overflow: hidden;text-align: left;background-color: #f0f8ff;}#sk-container-id-30 div.sk-toggleable__content pre {margin: 0.2em;color: black;border-radius: 0.25em;background-color: #f0f8ff;}#sk-container-id-30 input.sk-toggleable__control:checked~div.sk-toggleable__content {max-height: 200px;max-width: 100%;overflow: auto;}#sk-container-id-30 input.sk-toggleable__control:checked~label.sk-toggleable__label-arrow:before {content: \"▾\";}#sk-container-id-30 div.sk-estimator input.sk-toggleable__control:checked~label.sk-toggleable__label {background-color: #d4ebff;}#sk-container-id-30 div.sk-label input.sk-toggleable__control:checked~label.sk-toggleable__label {background-color: #d4ebff;}#sk-container-id-30 input.sk-hidden--visually {border: 0;clip: rect(1px 1px 1px 1px);clip: rect(1px, 1px, 1px, 1px);height: 1px;margin: -1px;overflow: hidden;padding: 0;position: absolute;width: 1px;}#sk-container-id-30 div.sk-estimator {font-family: monospace;background-color: #f0f8ff;border: 1px dotted black;border-radius: 0.25em;box-sizing: border-box;margin-bottom: 0.5em;}#sk-container-id-30 div.sk-estimator:hover {background-color: #d4ebff;}#sk-container-id-30 div.sk-parallel-item::after {content: \"\";width: 100%;border-bottom: 1px solid gray;flex-grow: 1;}#sk-container-id-30 div.sk-label:hover label.sk-toggleable__label {background-color: #d4ebff;}#sk-container-id-30 div.sk-serial::before {content: \"\";position: absolute;border-left: 1px solid gray;box-sizing: border-box;top: 0;bottom: 0;left: 50%;z-index: 0;}#sk-container-id-30 div.sk-serial {display: flex;flex-direction: column;align-items: center;background-color: white;padding-right: 0.2em;padding-left: 0.2em;position: relative;}#sk-container-id-30 div.sk-item {position: relative;z-index: 1;}#sk-container-id-30 div.sk-parallel {display: flex;align-items: stretch;justify-content: center;background-color: white;position: relative;}#sk-container-id-30 div.sk-item::before, #sk-container-id-30 div.sk-parallel-item::before {content: \"\";position: absolute;border-left: 1px solid gray;box-sizing: border-box;top: 0;bottom: 0;left: 50%;z-index: -1;}#sk-container-id-30 div.sk-parallel-item {display: flex;flex-direction: column;z-index: 1;position: relative;background-color: white;}#sk-container-id-30 div.sk-parallel-item:first-child::after {align-self: flex-end;width: 50%;}#sk-container-id-30 div.sk-parallel-item:last-child::after {align-self: flex-start;width: 50%;}#sk-container-id-30 div.sk-parallel-item:only-child::after {width: 0;}#sk-container-id-30 div.sk-dashed-wrapped {border: 1px dashed gray;margin: 0 0.4em 0.5em 0.4em;box-sizing: border-box;padding-bottom: 0.4em;background-color: white;}#sk-container-id-30 div.sk-label label {font-family: monospace;font-weight: bold;display: inline-block;line-height: 1.2em;}#sk-container-id-30 div.sk-label-container {text-align: center;}#sk-container-id-30 div.sk-container {/* jupyter's `normalize.less` sets `[hidden] { display: none; }` but bootstrap.min.css set `[hidden] { display: none !important; }` so we also need the `!important` here to be able to override the default hidden behavior on the sphinx rendered scikit-learn.org. See: https://github.com/scikit-learn/scikit-learn/issues/21755 */display: inline-block !important;position: relative;}#sk-container-id-30 div.sk-text-repr-fallback {display: none;}</style><div id=\"sk-container-id-30\" class=\"sk-top-container\"><div class=\"sk-text-repr-fallback\"><pre>LogisticRegression(class_weight=&#x27;balanced&#x27;, max_iter=1000)</pre><b>In a Jupyter environment, please rerun this cell to show the HTML representation or trust the notebook. <br />On GitHub, the HTML representation is unable to render, please try loading this page with nbviewer.org.</b></div><div class=\"sk-container\" hidden><div class=\"sk-item\"><div class=\"sk-estimator sk-toggleable\"><input class=\"sk-toggleable__control sk-hidden--visually\" id=\"sk-estimator-id-30\" type=\"checkbox\" checked><label for=\"sk-estimator-id-30\" class=\"sk-toggleable__label sk-toggleable__label-arrow\">LogisticRegression</label><div class=\"sk-toggleable__content\"><pre>LogisticRegression(class_weight=&#x27;balanced&#x27;, max_iter=1000)</pre></div></div></div></div></div>"
      ],
      "text/plain": [
       "LogisticRegression(class_weight='balanced', max_iter=1000)"
      ]
     },
     "execution_count": 348,
     "metadata": {},
     "output_type": "execute_result"
    }
   ],
   "source": [
    "lr.fit(X_train, y_train.values.ravel())"
   ]
  },
  {
   "cell_type": "code",
   "execution_count": 352,
   "metadata": {},
   "outputs": [],
   "source": [
    "Y_test_pred2 = lr.predict(X_test)"
   ]
  },
  {
   "cell_type": "code",
   "execution_count": 349,
   "metadata": {},
   "outputs": [],
   "source": [
    "nb_train_score = lr.score(X_train,Y_train)\n",
    "nb_test_score = lr.score(X_test,Y_test)"
   ]
  },
  {
   "cell_type": "code",
   "execution_count": 350,
   "metadata": {},
   "outputs": [
    {
     "data": {
      "text/plain": [
       "0.7693761814744802"
      ]
     },
     "execution_count": 350,
     "metadata": {},
     "output_type": "execute_result"
    }
   ],
   "source": [
    "nb_train_score"
   ]
  },
  {
   "cell_type": "code",
   "execution_count": 351,
   "metadata": {},
   "outputs": [
    {
     "data": {
      "text/plain": [
       "0.7984886649874056"
      ]
     },
     "execution_count": 351,
     "metadata": {},
     "output_type": "execute_result"
    }
   ],
   "source": [
    "nb_test_score"
   ]
  },
  {
   "cell_type": "code",
   "execution_count": 353,
   "metadata": {},
   "outputs": [
    {
     "name": "stdout",
     "output_type": "stream",
     "text": [
      "\n",
      "Testing Results of the trained model: \n",
      "\n",
      "Accuracy :  0.7984886649874056\n",
      "\n",
      "Confusion Matrix :\n",
      " [[297  77]\n",
      " [  3  20]]\n",
      "\n",
      "Classification Report :\n",
      "               precision    recall  f1-score   support\n",
      "\n",
      "         0.0       0.99      0.79      0.88       374\n",
      "         1.0       0.21      0.87      0.33        23\n",
      "\n",
      "    accuracy                           0.80       397\n",
      "   macro avg       0.60      0.83      0.61       397\n",
      "weighted avg       0.94      0.80      0.85       397\n",
      "\n"
     ]
    },
    {
     "data": {
      "image/png": "[encoded data removed]",
      "text/plain": [
       "<Figure size 792x792 with 2 Axes>"
      ]
     },
     "metadata": {
      "needs_background": "light"
     },
     "output_type": "display_data"
    }
   ],
   "source": [
    "# Evaluate the skill of the Trained model\n",
    "acc                 = accuracy_score(Y_test, Y_test_pred2)\n",
    "classReport         = classification_report(Y_test, Y_test_pred2)\n",
    "confMatrix          = confusion_matrix(Y_test, Y_test_pred2) \n",
    "        \n",
    "print(); print('Testing Results of the trained model: ')\n",
    "print(); print('Accuracy : ', acc)\n",
    "print(); print('Confusion Matrix :\\n', confMatrix)\n",
    "print(); print('Classification Report :\\n',classReport)\n",
    "skplt.metrics.plot_confusion_matrix(Y_test, Y_test_pred1, figsize=(11,11)); plt.show()"
   ]
  },
  {
   "cell_type": "code",
   "execution_count": null,
   "metadata": {},
   "outputs": [],
   "source": []
  }
 ],
 "metadata": {
  "kernelspec": {
   "display_name": "Python 3",
   "language": "python",
   "name": "python3"
  },
  "language_info": {
   "codemirror_mode": {
    "name": "ipython",
    "version": 3
   },
   "file_extension": ".py",
   "mimetype": "text/x-python",
   "name": "python",
   "nbconvert_exporter": "python",
   "pygments_lexer": "ipython3",
   "version": "3.8.8"
  }
 },
 "nbformat": 4,
 "nbformat_minor": 2
}
